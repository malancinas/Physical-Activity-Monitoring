{
 "cells": [
  {
   "cell_type": "markdown",
   "id": "c0855694",
   "metadata": {},
   "source": [
    "# Analysis of Physical Monitoring Dataset : Physical Activity Monitoring\n",
    "\n",
    "## Noah Malancinas\n",
    "### Overview\n",
    "#### Background: \n",
    "\n",
    "The PAMAP2 Physical Activity Monitoring dataset , contains data of 18 different physical activities (such as walking, cycling, playing soccer etc) performed by 9 subjects wearing 3 Inertial Measurement Units (IMU) and a heart rate monitor. This data is stored in individual text files per subject. Each row in each file represents one reading and contains 54 attributes (including timestamp, activity ID, heart rate and IMU sensory data).\n",
    "#### Sources:\n",
    "1. A. Reiss and D. Stricker. Introducing a New Benchmarked Dataset for Activity Monitoring. The \n",
    "16th IEEE International Symposium on Wearable Computers (ISWC), 2012.\n",
    "2. A. Reiss and D. Stricker. Creating and Benchmarking a New Dataset for Physical Activity \n",
    "Monitoring. The 5th Workshop on Affect and Behaviour Related Assistance (ABRA), 2012.\n",
    "\n",
    "#### Target:\n",
    "Assuming the goal is to develop hardware and/or software which can determine the amount and type of physical activity carried out by an individual, what actionable insights can you derive from the dataset?\n",
    "\n",
    "#### Full information found here https://archive.ics.uci.edu/ml/datasets/pamap2+physical+activity+monitoring"
   ]
  },
  {
   "cell_type": "markdown",
   "id": "65fa8bd9",
   "metadata": {},
   "source": [
    "## Contents\n",
    " ### Section 1) Data Munging\n",
    " \n",
    " ### Section 2) Data Analysis\n",
    "   #### Amount of Activity Calculator\n",
    "   #### Heart Rate Analysis\n",
    "   #### Temperature Analysis\n",
    "   #### Data Splitting and Correlation test\n",
    "   \n",
    " ### Section 3) Hypothesis Testing\n",
    "   #### Hypothesis 1: If increased heart rate reduces hand temperature then activites which are more physically demanding will in turn have lower hand temperature.\n",
    "   #### Hypothesis 2: If activity 1 rejected the previous null hypothesis then the mean heart rate of activity 1 (laying) is higher than the mean heart rate of activity 2 (sitting).\n",
    "   \n",
    "   ### Section 4) Classification\n",
    "   #### Logistic Regression - training models on different data\n",
    "   #### KMeans Clustering\n",
    "   #### Decision Tree\n",
    "   \n",
    "  ### Section 5) Conclusion\n",
    "   \n",
    "  \n",
    "   \n",
    " "
   ]
  },
  {
   "cell_type": "markdown",
   "id": "1851dd23",
   "metadata": {},
   "source": [
    "### Introduction"
   ]
  },
  {
   "cell_type": "markdown",
   "id": "00719290",
   "metadata": {},
   "source": [
    "This report is based on the data extracted from the PAMPA2 physical activity monitoring dataset. I will analyse this data for the targe specified above.\n",
    "\n",
    "In **section 1** I perform data munging which is a requirement before any exploratory data analysis can be carried out. Files were imported based on the recording details outlined in the brief. I remove all irrelevant rows where subjects did not perform activities. From the PDF information provided I used a third-party source to convert it to a CSV file, in this section I additionally load in these tables as data frames. I also calculate mean values for each IMU (Inertial Measurement Unit). This provides more data and confidently assisted me in structuring the final classification section.\n",
    "\n",
    "In **section 2** Data analysis was carried out with hypothesis testing. I explored the amount of data recorded for every activity as well as the amount available from each subject. Further analysis leads to an exploration of the mean heart rate for those activities (figure 2 and 3). I further went on to analyse the different temperatures that the three different locations output for each individual subject (figure 4). This was taken further to show specific activities and their corresponding average temperature for each of the IMU locations (figure 5,6,7). Further from this, the developing and testing set was generated and I used a heat map (figure 8) on the split data to display any correlation between features which was then tested on the other set in section 3.\n",
    "\n",
    "In **section 3** The hypothesis test was conducted. I found from the heat map in section 2 that there was a correlation between heart rate and hand temperature. I used bootstrap to avoid bias and additionally tested the hypothesis on unseen data. I tested the hypothesis on every activity in order and displayed the results of the probability value (Figures 9 and 10).\n",
    "\n",
    "\n",
    "In **Section 4** I created supervised (Logistic Regression, Decision Tree) and unsupervised (KMeans Cluster) classification algorithms with development and testing data. Hypoerparameters were tuned for the Logistic Regression model. I explore the accuracy, precision, recall, and F1 metrics. In the case of KMeans, the silhouette score metric and adjusted rand score was used.\n",
    "\n"
   ]
  },
  {
   "cell_type": "markdown",
   "id": "12d387c1",
   "metadata": {},
   "source": [
    "### Section 1: Data Munging"
   ]
  },
  {
   "cell_type": "code",
   "execution_count": 1,
   "id": "9ffc4130",
   "metadata": {},
   "outputs": [],
   "source": [
    "candidateno=244816 #this MUST be updated to your candidate number so that you get a unique data sample\n"
   ]
  },
  {
   "cell_type": "code",
   "execution_count": 2,
   "id": "cf4829fe",
   "metadata": {},
   "outputs": [],
   "source": [
    "import numpy as np\n",
    "import pandas as pd\n",
    "from pandas.plotting import scatter_matrix\n",
    "import matplotlib\n",
    "from matplotlib import pyplot as plt\n",
    "%matplotlib inline\n",
    "import random \n",
    "import seaborn as sns\n",
    "import scipy as scipy\n",
    "from scipy import stats\n",
    "from scipy.stats import t\n",
    "import math\n",
    "import statistics\n",
    "import sklearn.metrics as metrics\n",
    "from statsmodels.stats.weightstats import ztest \n",
    "from sklearn.decomposition import PCA\n",
    "from sklearn.linear_model import LogisticRegression\n",
    "from sklearn.metrics import classification_report,accuracy_score , precision_score, recall_score, f1_score\n",
    "import sklearn.model_selection as cross_validation\n",
    "from sklearn import preprocessing\n",
    "from sklearn.preprocessing import scale\n",
    "from sklearn.preprocessing import StandardScaler\n",
    "from sklearn import cluster\n",
    "from collections import defaultdict\n",
    "from sklearn.tree import DecisionTreeClassifier\n",
    "from sklearn.metrics.cluster import contingency_matrix\n",
    "from sklearn.metrics.cluster import silhouette_score , silhouette_samples\n",
    "from sklearn.metrics.cluster import adjusted_rand_score\n",
    "import sklearn.tree \n",
    "from sklearn.model_selection import GridSearchCV, cross_val_score, train_test_split"
   ]
  },
  {
   "cell_type": "code",
   "execution_count": 3,
   "id": "468fd7f9",
   "metadata": {},
   "outputs": [],
   "source": [
    "random.seed(candidateno)"
   ]
  },
  {
   "cell_type": "code",
   "execution_count": 4,
   "id": "65f05f09",
   "metadata": {},
   "outputs": [],
   "source": [
    "list_of_files = [\"Protocol/subject101.dat\",\n",
    "                \"Protocol/subject102.dat\",\n",
    "                \"Protocol/subject103.dat\",\n",
    "                \"Protocol/subject104.dat\",\n",
    "                \"Protocol/subject105.dat\",\n",
    "                \"Protocol/subject106.dat\",\n",
    "                \"Protocol/subject107.dat\",\n",
    "                \"Protocol/subject108.dat\",\n",
    "                \"Protocol/subject109.dat\",\n",
    "                \"Optional/subject101.dat\",\n",
    "                \"Optional/subject105.dat\",\n",
    "                \"Optional/subject108.dat\",\n",
    "                \"Optional/subject109.dat\"]\n",
    "\n",
    "activityID = {0: 'transient', 1: 'lying', 2: 'sitting', 3: 'standing', 4: 'walking', 5: 'running',\n",
    "              6: 'cycling', 7: 'Nordic_walking', 9: 'watching_TV', 10: 'computer_work', 11: 'car driving', \n",
    "              12: 'ascending_stairs', 13: 'descending_stairs', 16: 'vacuum_cleaning', 17: 'ironing',\n",
    "              18: 'folding_laundry', 19: 'house_cleaning', 20: 'playing_soccer', 24: 'rope_jumping'}\n",
    "# These were the only activities performed by the subjects\n",
    "compulsory_activities = [1,2,3,17,16,12,13,4,7,6,5,24]\n",
    "                  \n",
    "columnNames= [\"timestamp\", \"activityID\", \"heartrate\"]\n",
    "                  \n",
    "IMU_hand = ['handTemp', \n",
    "           'handAc16_1', 'handAc16_2', 'handAc16_3', \n",
    "           'handAc6_1', 'handAc6_2', 'handAc6_3', \n",
    "           'handGyro1', 'handGyro2', 'handGyro3', \n",
    "           'handMag1', 'handMag2', 'handMag3',\n",
    "           'handOri1', 'handOri2', 'handOri3', 'handOri4']\n",
    "\n",
    "IMU_chest = ['chestTemp', \n",
    "           'chestAc16_1', 'chestAc16_2', 'chestAc16_3', \n",
    "           'chestAc6_1', 'chestAc6_2', 'chestAc6_3', \n",
    "           'chestGyro1', 'chestGyro2', 'chestGyro3', \n",
    "           'chestMag1', 'chestMag2', 'chestMag3',\n",
    "           'chestOri1', 'chestOri2', 'chestOri3', 'chestOri4']\n",
    "\n",
    "IMU_ankle = ['ankleTemp', \n",
    "           'ankleAc16_1', 'ankleAc16_2', 'ankleAc16_3', \n",
    "           'ankleAc6_1', 'ankleAc6_2', 'ankleAc6_3', \n",
    "           'ankleGyro1', 'ankleGyro2', 'ankleGyro3', \n",
    "           'ankleMag1', 'ankleMag2', 'ankleMag3',\n",
    "           'ankleOri1', 'ankleOri2', 'ankleOri3', 'ankleOri4']\n",
    "                  \n",
    "cols= columnNames + IMU_hand + IMU_chest + IMU_ankle\n",
    "\n",
    "METless3 = [0,1,2,3,9,10,17,18] #categories the data into 3 groups to determine which activity is being performed later\n",
    "METless7 = [4,7,6,11,13,16,19]\n",
    "METless8 = [5,12,20,24]"
   ]
  },
  {
   "cell_type": "markdown",
   "id": "d66129d1",
   "metadata": {},
   "source": [
    "MET above found from the \"Description Of Activities\" aswell as the reference [2] in the reference section."
   ]
  },
  {
   "cell_type": "code",
   "execution_count": 5,
   "id": "7285a840",
   "metadata": {},
   "outputs": [],
   "source": [
    "def activityclassify(ID): #function to assist with mapping later.\n",
    "    if ID in METless3:\n",
    "        return \"Light Activity\"\n",
    "    if ID in METless7:\n",
    "        return \"Moderate Activity\"\n",
    "    if ID in METless8:\n",
    "        return \"Vigorous Activity\""
   ]
  },
  {
   "cell_type": "markdown",
   "id": "df19e434",
   "metadata": {},
   "source": [
    "Classifying the activities into 3 different groups. This will allow clustering and classifier training to more accuratly put activities into their activity category. Here I have used 3 classes 0< MET <3, 3$\\leq$ MET< 7, 7$\\leq$ MET <8."
   ]
  },
  {
   "cell_type": "code",
   "execution_count": 6,
   "id": "95e95269",
   "metadata": {},
   "outputs": [],
   "source": [
    "pamap2_df = pd.DataFrame() #turning the data into a data frame using the specified detail.\n",
    "for file in list_of_files:\n",
    "    subject_data =pd.read_table(file, header = None, sep=\"\\s+\")\n",
    "    subject_data.columns = cols\n",
    "    subject_data[\"subjectID\"] = int(file[-5]) #from the record books\n",
    "    subject_data[\"ActivityDifficulty\"] = subject_data[\"activityID\"].apply(activityclassify) #using a \"map\" to transform data\n",
    "    pamap2_df =pamap2_df.append(subject_data, ignore_index=True)\n",
    "    "
   ]
  },
  {
   "cell_type": "code",
   "execution_count": 7,
   "id": "8cd038d1",
   "metadata": {},
   "outputs": [],
   "source": [
    "def mean_calc(name): #used to find the mean and append to the big data frame to gather more information and make analysis accurate.\n",
    "    pamap2_df[name+'mean_acc16']=(pamap2_df[name+'Ac16_1'].astype(float)+pamap2_df[name+'Ac16_2'].astype(float)\n",
    "                                     +pamap2_df[name+'Ac16_3'].astype(float))/3 #finds mean for each row and creates new column\n",
    "    pamap2_df[name+'mean_gyro']=(pamap2_df[name+'Gyro1'].astype(float)+pamap2_df[name+'Gyro2'].astype(float)\n",
    "                                    +pamap2_df[name+'Gyro3'].astype(float))/3\n",
    "    pamap2_df[name+'mean_mag']=(pamap2_df[name+'Mag1'].astype(float)+pamap2_df[name+'Mag2'].astype(float)\n",
    "                                   +pamap2_df[name+'Mag3'].astype(float))/3\n",
    "    pamap2_df[name+'mean_temp']=(pamap2_df[name+'Temp'].astype(float)+pamap2_df[name+'Temp'].astype(float)\n",
    "                                   +pamap2_df[name+'Temp'].astype(float))/3"
   ]
  },
  {
   "cell_type": "code",
   "execution_count": 8,
   "id": "83df7256",
   "metadata": {},
   "outputs": [],
   "source": [
    "mean_calc(\"hand\")\n",
    "mean_calc(\"chest\")\n",
    "mean_calc(\"ankle\")"
   ]
  },
  {
   "cell_type": "code",
   "execution_count": 9,
   "id": "117b61a3",
   "metadata": {},
   "outputs": [],
   "source": [
    "#From the \"read me\" file the following columns below are to be removed due to being invalid in this experiment & report\n",
    "pamap2_df = pamap2_df.drop(columns=['handAc6_1', 'handAc6_2', 'handAc6_3','handOri1','handOri2','handOri3',\n",
    "                        'chestAc6_1', 'chestAc6_2', 'chestAc6_3','chestOri1', 'chestOri2', 'chestOri3', 'chestOri4',\n",
    "                       'ankleAc6_1', 'ankleAc6_2', 'ankleAc6_3','ankleOri1', 'ankleOri2', 'ankleOri3', 'ankleOri4'])\n",
    "pamap2_df = pamap2_df.interpolate(method=\"linear\")"
   ]
  },
  {
   "cell_type": "code",
   "execution_count": 10,
   "id": "26537908",
   "metadata": {},
   "outputs": [],
   "source": [
    "#the transient activities are irellevant and need to be removed\n",
    "pamap2_df = pamap2_df.drop((pamap2_df.index[pamap2_df.activityID==0]))"
   ]
  },
  {
   "cell_type": "code",
   "execution_count": 11,
   "id": "a7b4186f",
   "metadata": {},
   "outputs": [],
   "source": [
    "def drop_pamap2(subject,activities):\n",
    "    a = pamap2_df.drop((pamap2_df.index[(pamap2_df['subjectID']==subject) & (pamap2_df.activityID.isin([activities]))])) \n",
    "    return a"
   ]
  },
  {
   "cell_type": "code",
   "execution_count": 12,
   "id": "7cab8217",
   "metadata": {},
   "outputs": [],
   "source": [
    "# Not all subjects performed every activity and below I filter out those activities that specific subjects did not complete.\n",
    "# All columns to drop are found in \"PerformedActivitiesSummary\"\n",
    "pamap2_df = drop_pamap2(1,[10,20])\n",
    "pamap2_df = drop_pamap2(2,[9,10,11,18,19,20])\n",
    "pamap2_df = drop_pamap2(3,[5,6,7,9,10,11,18,19,20,24])\n",
    "pamap2_df = drop_pamap2(4,[5,9,10,11,18,19,20,24])\n",
    "pamap2_df = drop_pamap2(5,[9,11,18,20])\n",
    "pamap2_df = drop_pamap2(6,[9,11,20])\n",
    "pamap2_df = drop_pamap2(7,[9,10,11,18,19,20,24])\n",
    "pamap2_df = drop_pamap2(8,[9,11])\n",
    "pamap2_df = drop_pamap2(9,[1,2,3,4,5,6,7,9,11,12,13,16,17])"
   ]
  },
  {
   "cell_type": "code",
   "execution_count": 13,
   "id": "16a07beb",
   "metadata": {
    "scrolled": true
   },
   "outputs": [
    {
     "data": {
      "text/plain": [
       "timestamp             0\n",
       "activityID            0\n",
       "heartrate             0\n",
       "handTemp              0\n",
       "handAc16_1            0\n",
       "handAc16_2            0\n",
       "handAc16_3            0\n",
       "handGyro1             0\n",
       "handGyro2             0\n",
       "handGyro3             0\n",
       "handMag1              0\n",
       "handMag2              0\n",
       "handMag3              0\n",
       "handOri4              0\n",
       "chestTemp             0\n",
       "chestAc16_1           0\n",
       "chestAc16_2           0\n",
       "chestAc16_3           0\n",
       "chestGyro1            0\n",
       "chestGyro2            0\n",
       "chestGyro3            0\n",
       "chestMag1             0\n",
       "chestMag2             0\n",
       "chestMag3             0\n",
       "ankleTemp             0\n",
       "ankleAc16_1           0\n",
       "ankleAc16_2           0\n",
       "ankleAc16_3           0\n",
       "ankleGyro1            0\n",
       "ankleGyro2            0\n",
       "ankleGyro3            0\n",
       "ankleMag1             0\n",
       "ankleMag2             0\n",
       "ankleMag3             0\n",
       "subjectID             0\n",
       "ActivityDifficulty    0\n",
       "handmean_acc16        0\n",
       "handmean_gyro         0\n",
       "handmean_mag          0\n",
       "handmean_temp         0\n",
       "chestmean_acc16       0\n",
       "chestmean_gyro        0\n",
       "chestmean_mag         0\n",
       "chestmean_temp        0\n",
       "anklemean_acc16       0\n",
       "anklemean_gyro        0\n",
       "anklemean_mag         0\n",
       "anklemean_temp        0\n",
       "dtype: int64"
      ]
     },
     "execution_count": 13,
     "metadata": {},
     "output_type": "execute_result"
    }
   ],
   "source": [
    "pamap2_df.reset_index(inplace = True)\n",
    "pamap2_df = pamap2_df.drop(columns= \"index\") #Last section just created a new index and moved the old one into a column\n",
    "pamap2_df.isnull().sum()"
   ]
  },
  {
   "cell_type": "code",
   "execution_count": 14,
   "id": "5b93921b",
   "metadata": {},
   "outputs": [
    {
     "data": {
      "text/html": [
       "<div>\n",
       "<style scoped>\n",
       "    .dataframe tbody tr th:only-of-type {\n",
       "        vertical-align: middle;\n",
       "    }\n",
       "\n",
       "    .dataframe tbody tr th {\n",
       "        vertical-align: top;\n",
       "    }\n",
       "\n",
       "    .dataframe thead th {\n",
       "        text-align: right;\n",
       "    }\n",
       "</style>\n",
       "<table border=\"1\" class=\"dataframe\">\n",
       "  <thead>\n",
       "    <tr style=\"text-align: right;\">\n",
       "      <th></th>\n",
       "      <th>timestamp</th>\n",
       "      <th>activityID</th>\n",
       "      <th>heartrate</th>\n",
       "      <th>handTemp</th>\n",
       "      <th>handAc16_1</th>\n",
       "      <th>handAc16_2</th>\n",
       "      <th>handAc16_3</th>\n",
       "      <th>handGyro1</th>\n",
       "      <th>handGyro2</th>\n",
       "      <th>handGyro3</th>\n",
       "      <th>...</th>\n",
       "      <th>handmean_mag</th>\n",
       "      <th>handmean_temp</th>\n",
       "      <th>chestmean_acc16</th>\n",
       "      <th>chestmean_gyro</th>\n",
       "      <th>chestmean_mag</th>\n",
       "      <th>chestmean_temp</th>\n",
       "      <th>anklemean_acc16</th>\n",
       "      <th>anklemean_gyro</th>\n",
       "      <th>anklemean_mag</th>\n",
       "      <th>anklemean_temp</th>\n",
       "    </tr>\n",
       "  </thead>\n",
       "  <tbody>\n",
       "    <tr>\n",
       "      <th>0</th>\n",
       "      <td>37.66</td>\n",
       "      <td>1</td>\n",
       "      <td>100.0</td>\n",
       "      <td>30.375</td>\n",
       "      <td>2.21530</td>\n",
       "      <td>8.27915</td>\n",
       "      <td>5.58753</td>\n",
       "      <td>-0.004750</td>\n",
       "      <td>0.037579</td>\n",
       "      <td>-0.011145</td>\n",
       "      <td>...</td>\n",
       "      <td>-26.325367</td>\n",
       "      <td>30.375</td>\n",
       "      <td>2.707567</td>\n",
       "      <td>0.000145</td>\n",
       "      <td>-1.962178</td>\n",
       "      <td>32.1875</td>\n",
       "      <td>2.662032</td>\n",
       "      <td>-0.007684</td>\n",
       "      <td>-52.113767</td>\n",
       "      <td>30.75</td>\n",
       "    </tr>\n",
       "    <tr>\n",
       "      <th>1</th>\n",
       "      <td>37.67</td>\n",
       "      <td>1</td>\n",
       "      <td>100.0</td>\n",
       "      <td>30.375</td>\n",
       "      <td>2.29196</td>\n",
       "      <td>7.67288</td>\n",
       "      <td>5.74467</td>\n",
       "      <td>-0.171710</td>\n",
       "      <td>0.025479</td>\n",
       "      <td>-0.009538</td>\n",
       "      <td>...</td>\n",
       "      <td>-26.428167</td>\n",
       "      <td>30.375</td>\n",
       "      <td>2.733360</td>\n",
       "      <td>-0.021601</td>\n",
       "      <td>-2.020103</td>\n",
       "      <td>32.1875</td>\n",
       "      <td>2.597479</td>\n",
       "      <td>0.009278</td>\n",
       "      <td>-51.858967</td>\n",
       "      <td>30.75</td>\n",
       "    </tr>\n",
       "    <tr>\n",
       "      <th>2</th>\n",
       "      <td>37.68</td>\n",
       "      <td>1</td>\n",
       "      <td>100.0</td>\n",
       "      <td>30.375</td>\n",
       "      <td>2.29090</td>\n",
       "      <td>7.14240</td>\n",
       "      <td>5.82342</td>\n",
       "      <td>-0.238241</td>\n",
       "      <td>0.011214</td>\n",
       "      <td>0.000831</td>\n",
       "      <td>...</td>\n",
       "      <td>-25.951613</td>\n",
       "      <td>30.375</td>\n",
       "      <td>2.703949</td>\n",
       "      <td>-0.003142</td>\n",
       "      <td>-2.079840</td>\n",
       "      <td>32.1875</td>\n",
       "      <td>2.571709</td>\n",
       "      <td>-0.030899</td>\n",
       "      <td>-51.578933</td>\n",
       "      <td>30.75</td>\n",
       "    </tr>\n",
       "    <tr>\n",
       "      <th>3</th>\n",
       "      <td>37.69</td>\n",
       "      <td>1</td>\n",
       "      <td>100.0</td>\n",
       "      <td>30.375</td>\n",
       "      <td>2.21800</td>\n",
       "      <td>7.14365</td>\n",
       "      <td>5.89930</td>\n",
       "      <td>-0.192912</td>\n",
       "      <td>0.019053</td>\n",
       "      <td>0.013374</td>\n",
       "      <td>...</td>\n",
       "      <td>-26.023973</td>\n",
       "      <td>30.375</td>\n",
       "      <td>2.744582</td>\n",
       "      <td>-0.035405</td>\n",
       "      <td>-2.057705</td>\n",
       "      <td>32.1875</td>\n",
       "      <td>2.636982</td>\n",
       "      <td>-0.008136</td>\n",
       "      <td>-51.915767</td>\n",
       "      <td>30.75</td>\n",
       "    </tr>\n",
       "    <tr>\n",
       "      <th>4</th>\n",
       "      <td>37.70</td>\n",
       "      <td>1</td>\n",
       "      <td>100.0</td>\n",
       "      <td>30.375</td>\n",
       "      <td>2.30106</td>\n",
       "      <td>7.25857</td>\n",
       "      <td>6.09259</td>\n",
       "      <td>-0.069961</td>\n",
       "      <td>-0.018328</td>\n",
       "      <td>0.004582</td>\n",
       "      <td>...</td>\n",
       "      <td>-26.037313</td>\n",
       "      <td>30.375</td>\n",
       "      <td>2.796648</td>\n",
       "      <td>-0.017464</td>\n",
       "      <td>-2.441961</td>\n",
       "      <td>32.1875</td>\n",
       "      <td>2.661912</td>\n",
       "      <td>-0.017951</td>\n",
       "      <td>-51.737067</td>\n",
       "      <td>30.75</td>\n",
       "    </tr>\n",
       "    <tr>\n",
       "      <th>5</th>\n",
       "      <td>37.71</td>\n",
       "      <td>1</td>\n",
       "      <td>100.0</td>\n",
       "      <td>30.375</td>\n",
       "      <td>2.07165</td>\n",
       "      <td>7.25965</td>\n",
       "      <td>6.01218</td>\n",
       "      <td>0.063895</td>\n",
       "      <td>0.007175</td>\n",
       "      <td>0.024701</td>\n",
       "      <td>...</td>\n",
       "      <td>-25.985417</td>\n",
       "      <td>30.375</td>\n",
       "      <td>2.692244</td>\n",
       "      <td>-0.022033</td>\n",
       "      <td>-1.745760</td>\n",
       "      <td>32.1875</td>\n",
       "      <td>2.546056</td>\n",
       "      <td>-0.006329</td>\n",
       "      <td>-52.016733</td>\n",
       "      <td>30.75</td>\n",
       "    </tr>\n",
       "    <tr>\n",
       "      <th>6</th>\n",
       "      <td>37.72</td>\n",
       "      <td>1</td>\n",
       "      <td>100.0</td>\n",
       "      <td>30.375</td>\n",
       "      <td>2.41148</td>\n",
       "      <td>7.59780</td>\n",
       "      <td>5.93915</td>\n",
       "      <td>0.190837</td>\n",
       "      <td>0.003116</td>\n",
       "      <td>0.038762</td>\n",
       "      <td>...</td>\n",
       "      <td>-25.888090</td>\n",
       "      <td>30.375</td>\n",
       "      <td>2.719844</td>\n",
       "      <td>-0.010527</td>\n",
       "      <td>-2.052567</td>\n",
       "      <td>32.1875</td>\n",
       "      <td>2.583989</td>\n",
       "      <td>-0.000776</td>\n",
       "      <td>-52.170300</td>\n",
       "      <td>30.75</td>\n",
       "    </tr>\n",
       "    <tr>\n",
       "      <th>7</th>\n",
       "      <td>37.73</td>\n",
       "      <td>1</td>\n",
       "      <td>100.0</td>\n",
       "      <td>30.375</td>\n",
       "      <td>2.32815</td>\n",
       "      <td>7.63431</td>\n",
       "      <td>5.70686</td>\n",
       "      <td>0.200328</td>\n",
       "      <td>-0.009266</td>\n",
       "      <td>0.068567</td>\n",
       "      <td>...</td>\n",
       "      <td>-26.164273</td>\n",
       "      <td>30.375</td>\n",
       "      <td>2.758798</td>\n",
       "      <td>-0.006539</td>\n",
       "      <td>-2.140302</td>\n",
       "      <td>32.1875</td>\n",
       "      <td>2.545574</td>\n",
       "      <td>-0.006808</td>\n",
       "      <td>-52.364967</td>\n",
       "      <td>30.75</td>\n",
       "    </tr>\n",
       "    <tr>\n",
       "      <th>8</th>\n",
       "      <td>37.74</td>\n",
       "      <td>1</td>\n",
       "      <td>100.0</td>\n",
       "      <td>30.375</td>\n",
       "      <td>2.25096</td>\n",
       "      <td>7.78598</td>\n",
       "      <td>5.62821</td>\n",
       "      <td>0.204098</td>\n",
       "      <td>-0.068256</td>\n",
       "      <td>0.050000</td>\n",
       "      <td>...</td>\n",
       "      <td>-26.078073</td>\n",
       "      <td>30.375</td>\n",
       "      <td>2.744796</td>\n",
       "      <td>-0.012494</td>\n",
       "      <td>-2.424282</td>\n",
       "      <td>32.1875</td>\n",
       "      <td>2.700327</td>\n",
       "      <td>0.015953</td>\n",
       "      <td>-52.356133</td>\n",
       "      <td>30.75</td>\n",
       "    </tr>\n",
       "    <tr>\n",
       "      <th>9</th>\n",
       "      <td>37.75</td>\n",
       "      <td>1</td>\n",
       "      <td>100.0</td>\n",
       "      <td>30.375</td>\n",
       "      <td>2.14107</td>\n",
       "      <td>7.52262</td>\n",
       "      <td>5.78141</td>\n",
       "      <td>0.171291</td>\n",
       "      <td>-0.055411</td>\n",
       "      <td>0.021576</td>\n",
       "      <td>...</td>\n",
       "      <td>-25.708747</td>\n",
       "      <td>30.375</td>\n",
       "      <td>2.642334</td>\n",
       "      <td>-0.013332</td>\n",
       "      <td>-2.123858</td>\n",
       "      <td>32.1875</td>\n",
       "      <td>2.596032</td>\n",
       "      <td>0.008081</td>\n",
       "      <td>-52.354033</td>\n",
       "      <td>30.75</td>\n",
       "    </tr>\n",
       "  </tbody>\n",
       "</table>\n",
       "<p>10 rows × 48 columns</p>\n",
       "</div>"
      ],
      "text/plain": [
       "   timestamp  activityID  heartrate  handTemp  handAc16_1  handAc16_2  \\\n",
       "0      37.66           1      100.0    30.375     2.21530     8.27915   \n",
       "1      37.67           1      100.0    30.375     2.29196     7.67288   \n",
       "2      37.68           1      100.0    30.375     2.29090     7.14240   \n",
       "3      37.69           1      100.0    30.375     2.21800     7.14365   \n",
       "4      37.70           1      100.0    30.375     2.30106     7.25857   \n",
       "5      37.71           1      100.0    30.375     2.07165     7.25965   \n",
       "6      37.72           1      100.0    30.375     2.41148     7.59780   \n",
       "7      37.73           1      100.0    30.375     2.32815     7.63431   \n",
       "8      37.74           1      100.0    30.375     2.25096     7.78598   \n",
       "9      37.75           1      100.0    30.375     2.14107     7.52262   \n",
       "\n",
       "   handAc16_3  handGyro1  handGyro2  handGyro3  ...  handmean_mag  \\\n",
       "0     5.58753  -0.004750   0.037579  -0.011145  ...    -26.325367   \n",
       "1     5.74467  -0.171710   0.025479  -0.009538  ...    -26.428167   \n",
       "2     5.82342  -0.238241   0.011214   0.000831  ...    -25.951613   \n",
       "3     5.89930  -0.192912   0.019053   0.013374  ...    -26.023973   \n",
       "4     6.09259  -0.069961  -0.018328   0.004582  ...    -26.037313   \n",
       "5     6.01218   0.063895   0.007175   0.024701  ...    -25.985417   \n",
       "6     5.93915   0.190837   0.003116   0.038762  ...    -25.888090   \n",
       "7     5.70686   0.200328  -0.009266   0.068567  ...    -26.164273   \n",
       "8     5.62821   0.204098  -0.068256   0.050000  ...    -26.078073   \n",
       "9     5.78141   0.171291  -0.055411   0.021576  ...    -25.708747   \n",
       "\n",
       "   handmean_temp  chestmean_acc16  chestmean_gyro  chestmean_mag  \\\n",
       "0         30.375         2.707567        0.000145      -1.962178   \n",
       "1         30.375         2.733360       -0.021601      -2.020103   \n",
       "2         30.375         2.703949       -0.003142      -2.079840   \n",
       "3         30.375         2.744582       -0.035405      -2.057705   \n",
       "4         30.375         2.796648       -0.017464      -2.441961   \n",
       "5         30.375         2.692244       -0.022033      -1.745760   \n",
       "6         30.375         2.719844       -0.010527      -2.052567   \n",
       "7         30.375         2.758798       -0.006539      -2.140302   \n",
       "8         30.375         2.744796       -0.012494      -2.424282   \n",
       "9         30.375         2.642334       -0.013332      -2.123858   \n",
       "\n",
       "   chestmean_temp  anklemean_acc16  anklemean_gyro  anklemean_mag  \\\n",
       "0         32.1875         2.662032       -0.007684     -52.113767   \n",
       "1         32.1875         2.597479        0.009278     -51.858967   \n",
       "2         32.1875         2.571709       -0.030899     -51.578933   \n",
       "3         32.1875         2.636982       -0.008136     -51.915767   \n",
       "4         32.1875         2.661912       -0.017951     -51.737067   \n",
       "5         32.1875         2.546056       -0.006329     -52.016733   \n",
       "6         32.1875         2.583989       -0.000776     -52.170300   \n",
       "7         32.1875         2.545574       -0.006808     -52.364967   \n",
       "8         32.1875         2.700327        0.015953     -52.356133   \n",
       "9         32.1875         2.596032        0.008081     -52.354033   \n",
       "\n",
       "   anklemean_temp  \n",
       "0           30.75  \n",
       "1           30.75  \n",
       "2           30.75  \n",
       "3           30.75  \n",
       "4           30.75  \n",
       "5           30.75  \n",
       "6           30.75  \n",
       "7           30.75  \n",
       "8           30.75  \n",
       "9           30.75  \n",
       "\n",
       "[10 rows x 48 columns]"
      ]
     },
     "execution_count": 14,
     "metadata": {},
     "output_type": "execute_result"
    }
   ],
   "source": [
    "pamap2_df.head(10)"
   ]
  },
  {
   "cell_type": "markdown",
   "id": "2d534e32",
   "metadata": {},
   "source": [
    "There are still null values in the heart rate columns. This is because the linear method of interpolation uses the cells around those values to calculate what they should have been if they were values. \"interpolation\" makes estimates of a value inside of the data range. This is very accurate and not confused with its counter \"extrapolate\". Since above I have looked at the head of the data frame (first 10 values) It is safe to assume that these initial values had a heart rate of 100. I complete this task below."
   ]
  },
  {
   "cell_type": "code",
   "execution_count": 15,
   "id": "25e9ccb6",
   "metadata": {
    "scrolled": true
   },
   "outputs": [
    {
     "data": {
      "text/html": [
       "<div>\n",
       "<style scoped>\n",
       "    .dataframe tbody tr th:only-of-type {\n",
       "        vertical-align: middle;\n",
       "    }\n",
       "\n",
       "    .dataframe tbody tr th {\n",
       "        vertical-align: top;\n",
       "    }\n",
       "\n",
       "    .dataframe thead th {\n",
       "        text-align: right;\n",
       "    }\n",
       "</style>\n",
       "<table border=\"1\" class=\"dataframe\">\n",
       "  <thead>\n",
       "    <tr style=\"text-align: right;\">\n",
       "      <th></th>\n",
       "      <th>timestamp</th>\n",
       "      <th>activityID</th>\n",
       "      <th>heartrate</th>\n",
       "      <th>handTemp</th>\n",
       "      <th>handAc16_1</th>\n",
       "      <th>handAc16_2</th>\n",
       "      <th>handAc16_3</th>\n",
       "      <th>handGyro1</th>\n",
       "      <th>handGyro2</th>\n",
       "      <th>handGyro3</th>\n",
       "      <th>...</th>\n",
       "      <th>handmean_mag</th>\n",
       "      <th>handmean_temp</th>\n",
       "      <th>chestmean_acc16</th>\n",
       "      <th>chestmean_gyro</th>\n",
       "      <th>chestmean_mag</th>\n",
       "      <th>chestmean_temp</th>\n",
       "      <th>anklemean_acc16</th>\n",
       "      <th>anklemean_gyro</th>\n",
       "      <th>anklemean_mag</th>\n",
       "      <th>anklemean_temp</th>\n",
       "    </tr>\n",
       "  </thead>\n",
       "  <tbody>\n",
       "    <tr>\n",
       "      <th>0</th>\n",
       "      <td>37.66</td>\n",
       "      <td>1</td>\n",
       "      <td>100.0</td>\n",
       "      <td>30.375</td>\n",
       "      <td>2.21530</td>\n",
       "      <td>8.27915</td>\n",
       "      <td>5.58753</td>\n",
       "      <td>-0.004750</td>\n",
       "      <td>0.037579</td>\n",
       "      <td>-0.011145</td>\n",
       "      <td>...</td>\n",
       "      <td>-26.325367</td>\n",
       "      <td>30.375</td>\n",
       "      <td>2.707567</td>\n",
       "      <td>0.000145</td>\n",
       "      <td>-1.962178</td>\n",
       "      <td>32.1875</td>\n",
       "      <td>2.662032</td>\n",
       "      <td>-0.007684</td>\n",
       "      <td>-52.113767</td>\n",
       "      <td>30.75</td>\n",
       "    </tr>\n",
       "    <tr>\n",
       "      <th>1</th>\n",
       "      <td>37.67</td>\n",
       "      <td>1</td>\n",
       "      <td>100.0</td>\n",
       "      <td>30.375</td>\n",
       "      <td>2.29196</td>\n",
       "      <td>7.67288</td>\n",
       "      <td>5.74467</td>\n",
       "      <td>-0.171710</td>\n",
       "      <td>0.025479</td>\n",
       "      <td>-0.009538</td>\n",
       "      <td>...</td>\n",
       "      <td>-26.428167</td>\n",
       "      <td>30.375</td>\n",
       "      <td>2.733360</td>\n",
       "      <td>-0.021601</td>\n",
       "      <td>-2.020103</td>\n",
       "      <td>32.1875</td>\n",
       "      <td>2.597479</td>\n",
       "      <td>0.009278</td>\n",
       "      <td>-51.858967</td>\n",
       "      <td>30.75</td>\n",
       "    </tr>\n",
       "    <tr>\n",
       "      <th>2</th>\n",
       "      <td>37.68</td>\n",
       "      <td>1</td>\n",
       "      <td>100.0</td>\n",
       "      <td>30.375</td>\n",
       "      <td>2.29090</td>\n",
       "      <td>7.14240</td>\n",
       "      <td>5.82342</td>\n",
       "      <td>-0.238241</td>\n",
       "      <td>0.011214</td>\n",
       "      <td>0.000831</td>\n",
       "      <td>...</td>\n",
       "      <td>-25.951613</td>\n",
       "      <td>30.375</td>\n",
       "      <td>2.703949</td>\n",
       "      <td>-0.003142</td>\n",
       "      <td>-2.079840</td>\n",
       "      <td>32.1875</td>\n",
       "      <td>2.571709</td>\n",
       "      <td>-0.030899</td>\n",
       "      <td>-51.578933</td>\n",
       "      <td>30.75</td>\n",
       "    </tr>\n",
       "    <tr>\n",
       "      <th>3</th>\n",
       "      <td>37.69</td>\n",
       "      <td>1</td>\n",
       "      <td>100.0</td>\n",
       "      <td>30.375</td>\n",
       "      <td>2.21800</td>\n",
       "      <td>7.14365</td>\n",
       "      <td>5.89930</td>\n",
       "      <td>-0.192912</td>\n",
       "      <td>0.019053</td>\n",
       "      <td>0.013374</td>\n",
       "      <td>...</td>\n",
       "      <td>-26.023973</td>\n",
       "      <td>30.375</td>\n",
       "      <td>2.744582</td>\n",
       "      <td>-0.035405</td>\n",
       "      <td>-2.057705</td>\n",
       "      <td>32.1875</td>\n",
       "      <td>2.636982</td>\n",
       "      <td>-0.008136</td>\n",
       "      <td>-51.915767</td>\n",
       "      <td>30.75</td>\n",
       "    </tr>\n",
       "    <tr>\n",
       "      <th>4</th>\n",
       "      <td>37.70</td>\n",
       "      <td>1</td>\n",
       "      <td>100.0</td>\n",
       "      <td>30.375</td>\n",
       "      <td>2.30106</td>\n",
       "      <td>7.25857</td>\n",
       "      <td>6.09259</td>\n",
       "      <td>-0.069961</td>\n",
       "      <td>-0.018328</td>\n",
       "      <td>0.004582</td>\n",
       "      <td>...</td>\n",
       "      <td>-26.037313</td>\n",
       "      <td>30.375</td>\n",
       "      <td>2.796648</td>\n",
       "      <td>-0.017464</td>\n",
       "      <td>-2.441961</td>\n",
       "      <td>32.1875</td>\n",
       "      <td>2.661912</td>\n",
       "      <td>-0.017951</td>\n",
       "      <td>-51.737067</td>\n",
       "      <td>30.75</td>\n",
       "    </tr>\n",
       "  </tbody>\n",
       "</table>\n",
       "<p>5 rows × 48 columns</p>\n",
       "</div>"
      ],
      "text/plain": [
       "   timestamp  activityID  heartrate  handTemp  handAc16_1  handAc16_2  \\\n",
       "0      37.66           1      100.0    30.375     2.21530     8.27915   \n",
       "1      37.67           1      100.0    30.375     2.29196     7.67288   \n",
       "2      37.68           1      100.0    30.375     2.29090     7.14240   \n",
       "3      37.69           1      100.0    30.375     2.21800     7.14365   \n",
       "4      37.70           1      100.0    30.375     2.30106     7.25857   \n",
       "\n",
       "   handAc16_3  handGyro1  handGyro2  handGyro3  ...  handmean_mag  \\\n",
       "0     5.58753  -0.004750   0.037579  -0.011145  ...    -26.325367   \n",
       "1     5.74467  -0.171710   0.025479  -0.009538  ...    -26.428167   \n",
       "2     5.82342  -0.238241   0.011214   0.000831  ...    -25.951613   \n",
       "3     5.89930  -0.192912   0.019053   0.013374  ...    -26.023973   \n",
       "4     6.09259  -0.069961  -0.018328   0.004582  ...    -26.037313   \n",
       "\n",
       "   handmean_temp  chestmean_acc16  chestmean_gyro  chestmean_mag  \\\n",
       "0         30.375         2.707567        0.000145      -1.962178   \n",
       "1         30.375         2.733360       -0.021601      -2.020103   \n",
       "2         30.375         2.703949       -0.003142      -2.079840   \n",
       "3         30.375         2.744582       -0.035405      -2.057705   \n",
       "4         30.375         2.796648       -0.017464      -2.441961   \n",
       "\n",
       "   chestmean_temp  anklemean_acc16  anklemean_gyro  anklemean_mag  \\\n",
       "0         32.1875         2.662032       -0.007684     -52.113767   \n",
       "1         32.1875         2.597479        0.009278     -51.858967   \n",
       "2         32.1875         2.571709       -0.030899     -51.578933   \n",
       "3         32.1875         2.636982       -0.008136     -51.915767   \n",
       "4         32.1875         2.661912       -0.017951     -51.737067   \n",
       "\n",
       "   anklemean_temp  \n",
       "0           30.75  \n",
       "1           30.75  \n",
       "2           30.75  \n",
       "3           30.75  \n",
       "4           30.75  \n",
       "\n",
       "[5 rows x 48 columns]"
      ]
     },
     "execution_count": 15,
     "metadata": {},
     "output_type": "execute_result"
    }
   ],
   "source": [
    "indx = pamap2_df.index[:4] #only taking the first 4 rows which have missing heart rate\n",
    "pamap2_df.loc[indx, 'heartrate'] = 100\n",
    "pamap2_df.head()"
   ]
  },
  {
   "cell_type": "code",
   "execution_count": 16,
   "id": "611a1a5e",
   "metadata": {},
   "outputs": [],
   "source": [
    "def read_csv(data):\n",
    "    df = pd.read_csv(data)\n",
    "    return df"
   ]
  },
  {
   "cell_type": "code",
   "execution_count": 17,
   "id": "09882141",
   "metadata": {},
   "outputs": [],
   "source": [
    "si_data = read_csv(\"subjectInformation.csv\")"
   ]
  },
  {
   "cell_type": "code",
   "execution_count": 18,
   "id": "0e4ffbdb",
   "metadata": {},
   "outputs": [
    {
     "data": {
      "text/plain": [
       "(9, 7)"
      ]
     },
     "execution_count": 18,
     "metadata": {},
     "output_type": "execute_result"
    }
   ],
   "source": [
    "si_data.shape # note that I have removed the dominant hand column"
   ]
  },
  {
   "cell_type": "code",
   "execution_count": 19,
   "id": "2b665bd9",
   "metadata": {
    "scrolled": false
   },
   "outputs": [
    {
     "name": "stdout",
     "output_type": "stream",
     "text": [
      "SubjectID      5.000\n",
      "Age           27.222\n",
      "Height       179.444\n",
      "Weight        80.889\n",
      "RestingHR     65.000\n",
      "MaxHR        192.778\n",
      "dtype: float64\n"
     ]
    },
    {
     "data": {
      "text/html": [
       "<div>\n",
       "<style scoped>\n",
       "    .dataframe tbody tr th:only-of-type {\n",
       "        vertical-align: middle;\n",
       "    }\n",
       "\n",
       "    .dataframe tbody tr th {\n",
       "        vertical-align: top;\n",
       "    }\n",
       "\n",
       "    .dataframe thead th {\n",
       "        text-align: right;\n",
       "    }\n",
       "</style>\n",
       "<table border=\"1\" class=\"dataframe\">\n",
       "  <thead>\n",
       "    <tr style=\"text-align: right;\">\n",
       "      <th></th>\n",
       "      <th>SubjectID</th>\n",
       "      <th>Sex</th>\n",
       "      <th>Age</th>\n",
       "      <th>Height</th>\n",
       "      <th>Weight</th>\n",
       "      <th>RestingHR</th>\n",
       "      <th>MaxHR</th>\n",
       "    </tr>\n",
       "  </thead>\n",
       "  <tbody>\n",
       "    <tr>\n",
       "      <th>0</th>\n",
       "      <td>1</td>\n",
       "      <td>Male</td>\n",
       "      <td>27</td>\n",
       "      <td>182</td>\n",
       "      <td>83</td>\n",
       "      <td>75</td>\n",
       "      <td>193</td>\n",
       "    </tr>\n",
       "    <tr>\n",
       "      <th>1</th>\n",
       "      <td>2</td>\n",
       "      <td>Female</td>\n",
       "      <td>25</td>\n",
       "      <td>169</td>\n",
       "      <td>78</td>\n",
       "      <td>74</td>\n",
       "      <td>195</td>\n",
       "    </tr>\n",
       "    <tr>\n",
       "      <th>2</th>\n",
       "      <td>3</td>\n",
       "      <td>Male</td>\n",
       "      <td>31</td>\n",
       "      <td>187</td>\n",
       "      <td>92</td>\n",
       "      <td>68</td>\n",
       "      <td>189</td>\n",
       "    </tr>\n",
       "    <tr>\n",
       "      <th>3</th>\n",
       "      <td>4</td>\n",
       "      <td>Male</td>\n",
       "      <td>24</td>\n",
       "      <td>194</td>\n",
       "      <td>95</td>\n",
       "      <td>58</td>\n",
       "      <td>196</td>\n",
       "    </tr>\n",
       "    <tr>\n",
       "      <th>4</th>\n",
       "      <td>5</td>\n",
       "      <td>Male</td>\n",
       "      <td>26</td>\n",
       "      <td>180</td>\n",
       "      <td>73</td>\n",
       "      <td>70</td>\n",
       "      <td>194</td>\n",
       "    </tr>\n",
       "    <tr>\n",
       "      <th>5</th>\n",
       "      <td>6</td>\n",
       "      <td>Male</td>\n",
       "      <td>26</td>\n",
       "      <td>183</td>\n",
       "      <td>69</td>\n",
       "      <td>60</td>\n",
       "      <td>194</td>\n",
       "    </tr>\n",
       "    <tr>\n",
       "      <th>6</th>\n",
       "      <td>7</td>\n",
       "      <td>Male</td>\n",
       "      <td>23</td>\n",
       "      <td>173</td>\n",
       "      <td>86</td>\n",
       "      <td>60</td>\n",
       "      <td>197</td>\n",
       "    </tr>\n",
       "    <tr>\n",
       "      <th>7</th>\n",
       "      <td>8</td>\n",
       "      <td>Male</td>\n",
       "      <td>32</td>\n",
       "      <td>179</td>\n",
       "      <td>87</td>\n",
       "      <td>66</td>\n",
       "      <td>188</td>\n",
       "    </tr>\n",
       "    <tr>\n",
       "      <th>8</th>\n",
       "      <td>9</td>\n",
       "      <td>Male</td>\n",
       "      <td>31</td>\n",
       "      <td>168</td>\n",
       "      <td>65</td>\n",
       "      <td>54</td>\n",
       "      <td>189</td>\n",
       "    </tr>\n",
       "  </tbody>\n",
       "</table>\n",
       "</div>"
      ],
      "text/plain": [
       "   SubjectID     Sex  Age  Height  Weight  RestingHR  MaxHR\n",
       "0          1    Male   27     182      83         75    193\n",
       "1          2  Female   25     169      78         74    195\n",
       "2          3    Male   31     187      92         68    189\n",
       "3          4    Male   24     194      95         58    196\n",
       "4          5    Male   26     180      73         70    194\n",
       "5          6    Male   26     183      69         60    194\n",
       "6          7    Male   23     173      86         60    197\n",
       "7          8    Male   32     179      87         66    188\n",
       "8          9    Male   31     168      65         54    189"
      ]
     },
     "execution_count": 19,
     "metadata": {},
     "output_type": "execute_result"
    }
   ],
   "source": [
    "print(round(si_data.mean(),3))\n",
    "si_data"
   ]
  },
  {
   "cell_type": "code",
   "execution_count": 20,
   "id": "c2e4f05a",
   "metadata": {
    "scrolled": true
   },
   "outputs": [
    {
     "name": "stdout",
     "output_type": "stream",
     "text": [
      "standard deviation of each subject:\n",
      " subject101         241.735564\n",
      "subject102         130.956631\n",
      "subject103         137.572941\n",
      "subject104         139.546724\n",
      "subject105         327.238651\n",
      "subject106         169.335960\n",
      "subject107         135.894396\n",
      "subject108         193.635765\n",
      "subject109         242.357314\n",
      "Sum                724.047745\n",
      "Nr. of subjects      2.474874\n",
      "dtype: float64\n"
     ]
    }
   ],
   "source": [
    "pas_data = read_csv(\"PAS.csv\")\n",
    "pas_data.shape\n",
    "print('standard deviation of each subject:\\n',pas_data[1:9].std())"
   ]
  },
  {
   "cell_type": "code",
   "execution_count": 21,
   "id": "83cd30b7",
   "metadata": {},
   "outputs": [
    {
     "name": "stdout",
     "output_type": "stream",
     "text": [
      "PAS Data\n"
     ]
    },
    {
     "data": {
      "text/html": [
       "<div>\n",
       "<style scoped>\n",
       "    .dataframe tbody tr th:only-of-type {\n",
       "        vertical-align: middle;\n",
       "    }\n",
       "\n",
       "    .dataframe tbody tr th {\n",
       "        vertical-align: top;\n",
       "    }\n",
       "\n",
       "    .dataframe thead th {\n",
       "        text-align: right;\n",
       "    }\n",
       "</style>\n",
       "<table border=\"1\" class=\"dataframe\">\n",
       "  <thead>\n",
       "    <tr style=\"text-align: right;\">\n",
       "      <th></th>\n",
       "      <th>Activities</th>\n",
       "      <th>subject101</th>\n",
       "      <th>subject102</th>\n",
       "      <th>subject103</th>\n",
       "      <th>subject104</th>\n",
       "      <th>subject105</th>\n",
       "      <th>subject106</th>\n",
       "      <th>subject107</th>\n",
       "      <th>subject108</th>\n",
       "      <th>subject109</th>\n",
       "      <th>Sum</th>\n",
       "      <th>Nr. of subjects</th>\n",
       "    </tr>\n",
       "  </thead>\n",
       "  <tbody>\n",
       "    <tr>\n",
       "      <th>0</th>\n",
       "      <td>lying</td>\n",
       "      <td>271.86</td>\n",
       "      <td>234.29</td>\n",
       "      <td>220.43</td>\n",
       "      <td>230.46</td>\n",
       "      <td>236.98</td>\n",
       "      <td>233.39</td>\n",
       "      <td>256.10</td>\n",
       "      <td>241.64</td>\n",
       "      <td>0.00</td>\n",
       "      <td>1925.15</td>\n",
       "      <td>8.0</td>\n",
       "    </tr>\n",
       "    <tr>\n",
       "      <th>1</th>\n",
       "      <td>sitting</td>\n",
       "      <td>234.79</td>\n",
       "      <td>223.44</td>\n",
       "      <td>287.60</td>\n",
       "      <td>254.91</td>\n",
       "      <td>268.63</td>\n",
       "      <td>230.40</td>\n",
       "      <td>122.81</td>\n",
       "      <td>229.22</td>\n",
       "      <td>0.00</td>\n",
       "      <td>1851.80</td>\n",
       "      <td>8.0</td>\n",
       "    </tr>\n",
       "    <tr>\n",
       "      <th>2</th>\n",
       "      <td>standing</td>\n",
       "      <td>217.16</td>\n",
       "      <td>255.75</td>\n",
       "      <td>205.32</td>\n",
       "      <td>247.05</td>\n",
       "      <td>221.31</td>\n",
       "      <td>243.55</td>\n",
       "      <td>257.50</td>\n",
       "      <td>251.59</td>\n",
       "      <td>0.00</td>\n",
       "      <td>1899.23</td>\n",
       "      <td>8.0</td>\n",
       "    </tr>\n",
       "    <tr>\n",
       "      <th>3</th>\n",
       "      <td>walking</td>\n",
       "      <td>222.52</td>\n",
       "      <td>325.32</td>\n",
       "      <td>290.35</td>\n",
       "      <td>319.31</td>\n",
       "      <td>320.32</td>\n",
       "      <td>257.20</td>\n",
       "      <td>337.19</td>\n",
       "      <td>315.32</td>\n",
       "      <td>0.00</td>\n",
       "      <td>2387.53</td>\n",
       "      <td>8.0</td>\n",
       "    </tr>\n",
       "    <tr>\n",
       "      <th>4</th>\n",
       "      <td>running</td>\n",
       "      <td>212.64</td>\n",
       "      <td>92.37</td>\n",
       "      <td>0.00</td>\n",
       "      <td>0.00</td>\n",
       "      <td>246.45</td>\n",
       "      <td>228.24</td>\n",
       "      <td>36.91</td>\n",
       "      <td>165.31</td>\n",
       "      <td>0.00</td>\n",
       "      <td>981.92</td>\n",
       "      <td>6.0</td>\n",
       "    </tr>\n",
       "    <tr>\n",
       "      <th>5</th>\n",
       "      <td>cycling</td>\n",
       "      <td>235.74</td>\n",
       "      <td>251.07</td>\n",
       "      <td>0.00</td>\n",
       "      <td>226.98</td>\n",
       "      <td>245.76</td>\n",
       "      <td>204.85</td>\n",
       "      <td>226.79</td>\n",
       "      <td>254.74</td>\n",
       "      <td>0.00</td>\n",
       "      <td>1645.93</td>\n",
       "      <td>7.0</td>\n",
       "    </tr>\n",
       "    <tr>\n",
       "      <th>6</th>\n",
       "      <td>Nordic walking</td>\n",
       "      <td>202.64</td>\n",
       "      <td>297.38</td>\n",
       "      <td>0.00</td>\n",
       "      <td>275.32</td>\n",
       "      <td>262.70</td>\n",
       "      <td>266.85</td>\n",
       "      <td>287.24</td>\n",
       "      <td>288.87</td>\n",
       "      <td>0.00</td>\n",
       "      <td>1881.00</td>\n",
       "      <td>7.0</td>\n",
       "    </tr>\n",
       "    <tr>\n",
       "      <th>7</th>\n",
       "      <td>watching TV</td>\n",
       "      <td>836.45</td>\n",
       "      <td>0.00</td>\n",
       "      <td>0.00</td>\n",
       "      <td>0.00</td>\n",
       "      <td>0.00</td>\n",
       "      <td>0.00</td>\n",
       "      <td>0.00</td>\n",
       "      <td>0.00</td>\n",
       "      <td>0.00</td>\n",
       "      <td>836.45</td>\n",
       "      <td>1.0</td>\n",
       "    </tr>\n",
       "    <tr>\n",
       "      <th>8</th>\n",
       "      <td>computer work</td>\n",
       "      <td>0.00</td>\n",
       "      <td>0.00</td>\n",
       "      <td>0.00</td>\n",
       "      <td>0.00</td>\n",
       "      <td>1108.82</td>\n",
       "      <td>617.76</td>\n",
       "      <td>0.00</td>\n",
       "      <td>687.24</td>\n",
       "      <td>685.49</td>\n",
       "      <td>3099.31</td>\n",
       "      <td>4.0</td>\n",
       "    </tr>\n",
       "    <tr>\n",
       "      <th>9</th>\n",
       "      <td>car driving</td>\n",
       "      <td>545.18</td>\n",
       "      <td>0.00</td>\n",
       "      <td>0.00</td>\n",
       "      <td>0.00</td>\n",
       "      <td>0.00</td>\n",
       "      <td>0.00</td>\n",
       "      <td>0.00</td>\n",
       "      <td>0.00</td>\n",
       "      <td>0.00</td>\n",
       "      <td>545.18</td>\n",
       "      <td>1.0</td>\n",
       "    </tr>\n",
       "    <tr>\n",
       "      <th>10</th>\n",
       "      <td>ascending stairs</td>\n",
       "      <td>158.88</td>\n",
       "      <td>173.40</td>\n",
       "      <td>103.87</td>\n",
       "      <td>166.92</td>\n",
       "      <td>142.79</td>\n",
       "      <td>132.89</td>\n",
       "      <td>176.44</td>\n",
       "      <td>116.81</td>\n",
       "      <td>0.00</td>\n",
       "      <td>1172.00</td>\n",
       "      <td>8.0</td>\n",
       "    </tr>\n",
       "    <tr>\n",
       "      <th>11</th>\n",
       "      <td>descending stairs</td>\n",
       "      <td>148.97</td>\n",
       "      <td>152.11</td>\n",
       "      <td>152.72</td>\n",
       "      <td>142.83</td>\n",
       "      <td>127.25</td>\n",
       "      <td>112.70</td>\n",
       "      <td>116.16</td>\n",
       "      <td>96.53</td>\n",
       "      <td>0.00</td>\n",
       "      <td>1049.27</td>\n",
       "      <td>8.0</td>\n",
       "    </tr>\n",
       "    <tr>\n",
       "      <th>12</th>\n",
       "      <td>vacuum cleaning</td>\n",
       "      <td>229.40</td>\n",
       "      <td>206.82</td>\n",
       "      <td>203.24</td>\n",
       "      <td>200.36</td>\n",
       "      <td>244.44</td>\n",
       "      <td>210.77</td>\n",
       "      <td>215.51</td>\n",
       "      <td>242.91</td>\n",
       "      <td>0.00</td>\n",
       "      <td>1753.45</td>\n",
       "      <td>8.0</td>\n",
       "    </tr>\n",
       "    <tr>\n",
       "      <th>13</th>\n",
       "      <td>ironing</td>\n",
       "      <td>235.72</td>\n",
       "      <td>288.79</td>\n",
       "      <td>279.74</td>\n",
       "      <td>249.94</td>\n",
       "      <td>330.33</td>\n",
       "      <td>377.43</td>\n",
       "      <td>294.98</td>\n",
       "      <td>329.89</td>\n",
       "      <td>0.00</td>\n",
       "      <td>2386.82</td>\n",
       "      <td>8.0</td>\n",
       "    </tr>\n",
       "    <tr>\n",
       "      <th>14</th>\n",
       "      <td>folding laundry</td>\n",
       "      <td>271.13</td>\n",
       "      <td>0.00</td>\n",
       "      <td>0.00</td>\n",
       "      <td>0.00</td>\n",
       "      <td>0.00</td>\n",
       "      <td>217.85</td>\n",
       "      <td>0.00</td>\n",
       "      <td>236.49</td>\n",
       "      <td>273.27</td>\n",
       "      <td>998.74</td>\n",
       "      <td>4.0</td>\n",
       "    </tr>\n",
       "    <tr>\n",
       "      <th>15</th>\n",
       "      <td>house cleaning</td>\n",
       "      <td>540.88</td>\n",
       "      <td>0.00</td>\n",
       "      <td>0.00</td>\n",
       "      <td>0.00</td>\n",
       "      <td>284.87</td>\n",
       "      <td>287.13</td>\n",
       "      <td>0.00</td>\n",
       "      <td>416.90</td>\n",
       "      <td>342.05</td>\n",
       "      <td>1871.83</td>\n",
       "      <td>5.0</td>\n",
       "    </tr>\n",
       "    <tr>\n",
       "      <th>16</th>\n",
       "      <td>playing soccer</td>\n",
       "      <td>0.00</td>\n",
       "      <td>0.00</td>\n",
       "      <td>0.00</td>\n",
       "      <td>0.00</td>\n",
       "      <td>0.00</td>\n",
       "      <td>0.00</td>\n",
       "      <td>0.00</td>\n",
       "      <td>181.24</td>\n",
       "      <td>287.88</td>\n",
       "      <td>469.12</td>\n",
       "      <td>2.0</td>\n",
       "    </tr>\n",
       "    <tr>\n",
       "      <th>17</th>\n",
       "      <td>rope jumping</td>\n",
       "      <td>129.11</td>\n",
       "      <td>132.61</td>\n",
       "      <td>0.00</td>\n",
       "      <td>0.00</td>\n",
       "      <td>77.32</td>\n",
       "      <td>2.55</td>\n",
       "      <td>0.00</td>\n",
       "      <td>88.05</td>\n",
       "      <td>63.90</td>\n",
       "      <td>493.54</td>\n",
       "      <td>6.0</td>\n",
       "    </tr>\n",
       "    <tr>\n",
       "      <th>18</th>\n",
       "      <td>labeled total</td>\n",
       "      <td>4693.07</td>\n",
       "      <td>2633.35</td>\n",
       "      <td>1743.27</td>\n",
       "      <td>2314.08</td>\n",
       "      <td>4117.97</td>\n",
       "      <td>3623.56</td>\n",
       "      <td>2327.63</td>\n",
       "      <td>4142.75</td>\n",
       "      <td>1652.59</td>\n",
       "      <td>27248.27</td>\n",
       "      <td>NaN</td>\n",
       "    </tr>\n",
       "    <tr>\n",
       "      <th>19</th>\n",
       "      <td>Total</td>\n",
       "      <td>6957.67</td>\n",
       "      <td>4469.99</td>\n",
       "      <td>2528.32</td>\n",
       "      <td>3295.75</td>\n",
       "      <td>5295.54</td>\n",
       "      <td>4917.78</td>\n",
       "      <td>3135.98</td>\n",
       "      <td>5884.41</td>\n",
       "      <td>2019.47</td>\n",
       "      <td>38504.91</td>\n",
       "      <td>NaN</td>\n",
       "    </tr>\n",
       "  </tbody>\n",
       "</table>\n",
       "</div>"
      ],
      "text/plain": [
       "           Activities  subject101  subject102  subject103  subject104  \\\n",
       "0               lying      271.86      234.29      220.43      230.46   \n",
       "1             sitting      234.79      223.44      287.60      254.91   \n",
       "2            standing      217.16      255.75      205.32      247.05   \n",
       "3             walking      222.52      325.32      290.35      319.31   \n",
       "4             running      212.64       92.37        0.00        0.00   \n",
       "5             cycling      235.74      251.07        0.00      226.98   \n",
       "6      Nordic walking      202.64      297.38        0.00      275.32   \n",
       "7         watching TV      836.45        0.00        0.00        0.00   \n",
       "8       computer work        0.00        0.00        0.00        0.00   \n",
       "9         car driving      545.18        0.00        0.00        0.00   \n",
       "10   ascending stairs      158.88      173.40      103.87      166.92   \n",
       "11  descending stairs      148.97      152.11      152.72      142.83   \n",
       "12    vacuum cleaning      229.40      206.82      203.24      200.36   \n",
       "13            ironing      235.72      288.79      279.74      249.94   \n",
       "14    folding laundry      271.13        0.00        0.00        0.00   \n",
       "15     house cleaning      540.88        0.00        0.00        0.00   \n",
       "16     playing soccer        0.00        0.00        0.00        0.00   \n",
       "17       rope jumping      129.11      132.61        0.00        0.00   \n",
       "18      labeled total     4693.07     2633.35     1743.27     2314.08   \n",
       "19              Total     6957.67     4469.99     2528.32     3295.75   \n",
       "\n",
       "    subject105  subject106  subject107  subject108  subject109       Sum  \\\n",
       "0       236.98      233.39      256.10      241.64        0.00   1925.15   \n",
       "1       268.63      230.40      122.81      229.22        0.00   1851.80   \n",
       "2       221.31      243.55      257.50      251.59        0.00   1899.23   \n",
       "3       320.32      257.20      337.19      315.32        0.00   2387.53   \n",
       "4       246.45      228.24       36.91      165.31        0.00    981.92   \n",
       "5       245.76      204.85      226.79      254.74        0.00   1645.93   \n",
       "6       262.70      266.85      287.24      288.87        0.00   1881.00   \n",
       "7         0.00        0.00        0.00        0.00        0.00    836.45   \n",
       "8      1108.82      617.76        0.00      687.24      685.49   3099.31   \n",
       "9         0.00        0.00        0.00        0.00        0.00    545.18   \n",
       "10      142.79      132.89      176.44      116.81        0.00   1172.00   \n",
       "11      127.25      112.70      116.16       96.53        0.00   1049.27   \n",
       "12      244.44      210.77      215.51      242.91        0.00   1753.45   \n",
       "13      330.33      377.43      294.98      329.89        0.00   2386.82   \n",
       "14        0.00      217.85        0.00      236.49      273.27    998.74   \n",
       "15      284.87      287.13        0.00      416.90      342.05   1871.83   \n",
       "16        0.00        0.00        0.00      181.24      287.88    469.12   \n",
       "17       77.32        2.55        0.00       88.05       63.90    493.54   \n",
       "18     4117.97     3623.56     2327.63     4142.75     1652.59  27248.27   \n",
       "19     5295.54     4917.78     3135.98     5884.41     2019.47  38504.91   \n",
       "\n",
       "    Nr. of subjects  \n",
       "0               8.0  \n",
       "1               8.0  \n",
       "2               8.0  \n",
       "3               8.0  \n",
       "4               6.0  \n",
       "5               7.0  \n",
       "6               7.0  \n",
       "7               1.0  \n",
       "8               4.0  \n",
       "9               1.0  \n",
       "10              8.0  \n",
       "11              8.0  \n",
       "12              8.0  \n",
       "13              8.0  \n",
       "14              4.0  \n",
       "15              5.0  \n",
       "16              2.0  \n",
       "17              6.0  \n",
       "18              NaN  \n",
       "19              NaN  "
      ]
     },
     "execution_count": 21,
     "metadata": {},
     "output_type": "execute_result"
    }
   ],
   "source": [
    "print(\"PAS Data\")\n",
    "pas_data\n"
   ]
  },
  {
   "cell_type": "markdown",
   "id": "b9fc2773",
   "metadata": {},
   "source": [
    "As you can see above subjects 1,5,6 and 8 had the most recorded time. This would imply that once data is analysed their results would have the most value. Here we can see that Subject 9 had the lowest recorded time we can see that is due to the fact that they did not complete many of the light exercises (MET <3). Instead, they participated in a number of high-intensity activities such as soccer and rope jumping and only complete a couple of light exercises. This implies that the presence of subject 9 will gather incorrect information and thus they are to be removed."
   ]
  },
  {
   "cell_type": "code",
   "execution_count": 22,
   "id": "650ec5c2",
   "metadata": {},
   "outputs": [],
   "source": [
    "pamap2_df = pamap2_df.drop(list(pamap2_df.index[(pamap2_df['subjectID']==9)])) # Removeing all data for subject 9"
   ]
  },
  {
   "cell_type": "markdown",
   "id": "62402b8c",
   "metadata": {},
   "source": [
    "## Section 2: Data Analysis"
   ]
  },
  {
   "cell_type": "markdown",
   "id": "72c40ed2",
   "metadata": {},
   "source": [
    "### Amount of Physical Activity\n",
    "From the Silverback Fitness (referenced at the end) it is stated that the amount of physical activity performed (measured in calories burnt) is the follow formula : (Activity Duration in minutes) x [(MET score x 3.5 x Weight in Kg)/200] $^{[4]}$"
   ]
  },
  {
   "cell_type": "code",
   "execution_count": 246,
   "id": "d2b88863",
   "metadata": {},
   "outputs": [
    {
     "data": {
      "text/html": [
       "<div>\n",
       "<style scoped>\n",
       "    .dataframe tbody tr th:only-of-type {\n",
       "        vertical-align: middle;\n",
       "    }\n",
       "\n",
       "    .dataframe tbody tr th {\n",
       "        vertical-align: top;\n",
       "    }\n",
       "\n",
       "    .dataframe thead th {\n",
       "        text-align: right;\n",
       "    }\n",
       "</style>\n",
       "<table border=\"1\" class=\"dataframe\">\n",
       "  <thead>\n",
       "    <tr style=\"text-align: right;\">\n",
       "      <th></th>\n",
       "      <th>Weight</th>\n",
       "    </tr>\n",
       "    <tr>\n",
       "      <th>SubjectID</th>\n",
       "      <th></th>\n",
       "    </tr>\n",
       "  </thead>\n",
       "  <tbody>\n",
       "    <tr>\n",
       "      <th>1</th>\n",
       "      <td>83</td>\n",
       "    </tr>\n",
       "    <tr>\n",
       "      <th>2</th>\n",
       "      <td>78</td>\n",
       "    </tr>\n",
       "    <tr>\n",
       "      <th>3</th>\n",
       "      <td>92</td>\n",
       "    </tr>\n",
       "    <tr>\n",
       "      <th>4</th>\n",
       "      <td>95</td>\n",
       "    </tr>\n",
       "    <tr>\n",
       "      <th>5</th>\n",
       "      <td>73</td>\n",
       "    </tr>\n",
       "    <tr>\n",
       "      <th>6</th>\n",
       "      <td>69</td>\n",
       "    </tr>\n",
       "    <tr>\n",
       "      <th>7</th>\n",
       "      <td>86</td>\n",
       "    </tr>\n",
       "    <tr>\n",
       "      <th>8</th>\n",
       "      <td>87</td>\n",
       "    </tr>\n",
       "    <tr>\n",
       "      <th>9</th>\n",
       "      <td>65</td>\n",
       "    </tr>\n",
       "  </tbody>\n",
       "</table>\n",
       "</div>"
      ],
      "text/plain": [
       "           Weight\n",
       "SubjectID        \n",
       "1              83\n",
       "2              78\n",
       "3              92\n",
       "4              95\n",
       "5              73\n",
       "6              69\n",
       "7              86\n",
       "8              87\n",
       "9              65"
      ]
     },
     "execution_count": 246,
     "metadata": {},
     "output_type": "execute_result"
    }
   ],
   "source": [
    "Caloriesdf= si_data[[\"SubjectID\",\"Weight\"]]\n",
    "Caloriesdf= Caloriesdf.set_index(\"SubjectID\")\n",
    "Caloriesdf"
   ]
  },
  {
   "cell_type": "code",
   "execution_count": 247,
   "id": "38d13ec5",
   "metadata": {},
   "outputs": [],
   "source": [
    "activityandMET={\"lying\":1,\"sitting\":1.8,\"standing\":1.8,\"ironing\":2.3,\n",
    "                \"folding laundry\":3.5,\"ascending stairs\":8,\"descending stairs\":3,\n",
    "                \"walking\":3.55,\"Nordic walking\":5.5,\"cycling\":4,\"running\":7.5,\"rope jumping\":9}"
   ]
  },
  {
   "cell_type": "code",
   "execution_count": 248,
   "id": "55cbfa25",
   "metadata": {},
   "outputs": [],
   "source": [
    "activitydurations = pas_data.iloc[: ,:10]"
   ]
  },
  {
   "cell_type": "code",
   "execution_count": 249,
   "id": "c30a4da1",
   "metadata": {},
   "outputs": [],
   "source": [
    "activitydurations = activitydurations.rename(columns={\"subject101\":1,\"subject102\":2,\"subject103\":3,\"subject104\":4,\n",
    "                                 \"subject105\":5,\"subject106\":6,\"subject107\":7,\n",
    "                                 \"subject108\":8,\"subject109\":9})"
   ]
  },
  {
   "cell_type": "code",
   "execution_count": 250,
   "id": "87522c41",
   "metadata": {},
   "outputs": [],
   "source": [
    "activitydurations = activitydurations.set_index(\"Activities\")"
   ]
  },
  {
   "cell_type": "code",
   "execution_count": 251,
   "id": "ebcbc62b",
   "metadata": {},
   "outputs": [
    {
     "data": {
      "text/html": [
       "<div>\n",
       "<style scoped>\n",
       "    .dataframe tbody tr th:only-of-type {\n",
       "        vertical-align: middle;\n",
       "    }\n",
       "\n",
       "    .dataframe tbody tr th {\n",
       "        vertical-align: top;\n",
       "    }\n",
       "\n",
       "    .dataframe thead th {\n",
       "        text-align: right;\n",
       "    }\n",
       "</style>\n",
       "<table border=\"1\" class=\"dataframe\">\n",
       "  <thead>\n",
       "    <tr style=\"text-align: right;\">\n",
       "      <th></th>\n",
       "      <th>1</th>\n",
       "      <th>2</th>\n",
       "      <th>3</th>\n",
       "      <th>4</th>\n",
       "      <th>5</th>\n",
       "      <th>6</th>\n",
       "      <th>7</th>\n",
       "      <th>8</th>\n",
       "      <th>9</th>\n",
       "    </tr>\n",
       "    <tr>\n",
       "      <th>Activities</th>\n",
       "      <th></th>\n",
       "      <th></th>\n",
       "      <th></th>\n",
       "      <th></th>\n",
       "      <th></th>\n",
       "      <th></th>\n",
       "      <th></th>\n",
       "      <th></th>\n",
       "      <th></th>\n",
       "    </tr>\n",
       "  </thead>\n",
       "  <tbody>\n",
       "    <tr>\n",
       "      <th>lying</th>\n",
       "      <td>271.86</td>\n",
       "      <td>234.29</td>\n",
       "      <td>220.43</td>\n",
       "      <td>230.46</td>\n",
       "      <td>236.98</td>\n",
       "      <td>233.39</td>\n",
       "      <td>256.10</td>\n",
       "      <td>241.64</td>\n",
       "      <td>0.00</td>\n",
       "    </tr>\n",
       "    <tr>\n",
       "      <th>sitting</th>\n",
       "      <td>234.79</td>\n",
       "      <td>223.44</td>\n",
       "      <td>287.60</td>\n",
       "      <td>254.91</td>\n",
       "      <td>268.63</td>\n",
       "      <td>230.40</td>\n",
       "      <td>122.81</td>\n",
       "      <td>229.22</td>\n",
       "      <td>0.00</td>\n",
       "    </tr>\n",
       "    <tr>\n",
       "      <th>standing</th>\n",
       "      <td>217.16</td>\n",
       "      <td>255.75</td>\n",
       "      <td>205.32</td>\n",
       "      <td>247.05</td>\n",
       "      <td>221.31</td>\n",
       "      <td>243.55</td>\n",
       "      <td>257.50</td>\n",
       "      <td>251.59</td>\n",
       "      <td>0.00</td>\n",
       "    </tr>\n",
       "    <tr>\n",
       "      <th>walking</th>\n",
       "      <td>222.52</td>\n",
       "      <td>325.32</td>\n",
       "      <td>290.35</td>\n",
       "      <td>319.31</td>\n",
       "      <td>320.32</td>\n",
       "      <td>257.20</td>\n",
       "      <td>337.19</td>\n",
       "      <td>315.32</td>\n",
       "      <td>0.00</td>\n",
       "    </tr>\n",
       "    <tr>\n",
       "      <th>running</th>\n",
       "      <td>212.64</td>\n",
       "      <td>92.37</td>\n",
       "      <td>0.00</td>\n",
       "      <td>0.00</td>\n",
       "      <td>246.45</td>\n",
       "      <td>228.24</td>\n",
       "      <td>36.91</td>\n",
       "      <td>165.31</td>\n",
       "      <td>0.00</td>\n",
       "    </tr>\n",
       "    <tr>\n",
       "      <th>cycling</th>\n",
       "      <td>235.74</td>\n",
       "      <td>251.07</td>\n",
       "      <td>0.00</td>\n",
       "      <td>226.98</td>\n",
       "      <td>245.76</td>\n",
       "      <td>204.85</td>\n",
       "      <td>226.79</td>\n",
       "      <td>254.74</td>\n",
       "      <td>0.00</td>\n",
       "    </tr>\n",
       "    <tr>\n",
       "      <th>Nordic walking</th>\n",
       "      <td>202.64</td>\n",
       "      <td>297.38</td>\n",
       "      <td>0.00</td>\n",
       "      <td>275.32</td>\n",
       "      <td>262.70</td>\n",
       "      <td>266.85</td>\n",
       "      <td>287.24</td>\n",
       "      <td>288.87</td>\n",
       "      <td>0.00</td>\n",
       "    </tr>\n",
       "    <tr>\n",
       "      <th>watching TV</th>\n",
       "      <td>836.45</td>\n",
       "      <td>0.00</td>\n",
       "      <td>0.00</td>\n",
       "      <td>0.00</td>\n",
       "      <td>0.00</td>\n",
       "      <td>0.00</td>\n",
       "      <td>0.00</td>\n",
       "      <td>0.00</td>\n",
       "      <td>0.00</td>\n",
       "    </tr>\n",
       "    <tr>\n",
       "      <th>computer work</th>\n",
       "      <td>0.00</td>\n",
       "      <td>0.00</td>\n",
       "      <td>0.00</td>\n",
       "      <td>0.00</td>\n",
       "      <td>1108.82</td>\n",
       "      <td>617.76</td>\n",
       "      <td>0.00</td>\n",
       "      <td>687.24</td>\n",
       "      <td>685.49</td>\n",
       "    </tr>\n",
       "    <tr>\n",
       "      <th>car driving</th>\n",
       "      <td>545.18</td>\n",
       "      <td>0.00</td>\n",
       "      <td>0.00</td>\n",
       "      <td>0.00</td>\n",
       "      <td>0.00</td>\n",
       "      <td>0.00</td>\n",
       "      <td>0.00</td>\n",
       "      <td>0.00</td>\n",
       "      <td>0.00</td>\n",
       "    </tr>\n",
       "    <tr>\n",
       "      <th>ascending stairs</th>\n",
       "      <td>158.88</td>\n",
       "      <td>173.40</td>\n",
       "      <td>103.87</td>\n",
       "      <td>166.92</td>\n",
       "      <td>142.79</td>\n",
       "      <td>132.89</td>\n",
       "      <td>176.44</td>\n",
       "      <td>116.81</td>\n",
       "      <td>0.00</td>\n",
       "    </tr>\n",
       "    <tr>\n",
       "      <th>descending stairs</th>\n",
       "      <td>148.97</td>\n",
       "      <td>152.11</td>\n",
       "      <td>152.72</td>\n",
       "      <td>142.83</td>\n",
       "      <td>127.25</td>\n",
       "      <td>112.70</td>\n",
       "      <td>116.16</td>\n",
       "      <td>96.53</td>\n",
       "      <td>0.00</td>\n",
       "    </tr>\n",
       "    <tr>\n",
       "      <th>vacuum cleaning</th>\n",
       "      <td>229.40</td>\n",
       "      <td>206.82</td>\n",
       "      <td>203.24</td>\n",
       "      <td>200.36</td>\n",
       "      <td>244.44</td>\n",
       "      <td>210.77</td>\n",
       "      <td>215.51</td>\n",
       "      <td>242.91</td>\n",
       "      <td>0.00</td>\n",
       "    </tr>\n",
       "    <tr>\n",
       "      <th>ironing</th>\n",
       "      <td>235.72</td>\n",
       "      <td>288.79</td>\n",
       "      <td>279.74</td>\n",
       "      <td>249.94</td>\n",
       "      <td>330.33</td>\n",
       "      <td>377.43</td>\n",
       "      <td>294.98</td>\n",
       "      <td>329.89</td>\n",
       "      <td>0.00</td>\n",
       "    </tr>\n",
       "    <tr>\n",
       "      <th>folding laundry</th>\n",
       "      <td>271.13</td>\n",
       "      <td>0.00</td>\n",
       "      <td>0.00</td>\n",
       "      <td>0.00</td>\n",
       "      <td>0.00</td>\n",
       "      <td>217.85</td>\n",
       "      <td>0.00</td>\n",
       "      <td>236.49</td>\n",
       "      <td>273.27</td>\n",
       "    </tr>\n",
       "    <tr>\n",
       "      <th>house cleaning</th>\n",
       "      <td>540.88</td>\n",
       "      <td>0.00</td>\n",
       "      <td>0.00</td>\n",
       "      <td>0.00</td>\n",
       "      <td>284.87</td>\n",
       "      <td>287.13</td>\n",
       "      <td>0.00</td>\n",
       "      <td>416.90</td>\n",
       "      <td>342.05</td>\n",
       "    </tr>\n",
       "    <tr>\n",
       "      <th>playing soccer</th>\n",
       "      <td>0.00</td>\n",
       "      <td>0.00</td>\n",
       "      <td>0.00</td>\n",
       "      <td>0.00</td>\n",
       "      <td>0.00</td>\n",
       "      <td>0.00</td>\n",
       "      <td>0.00</td>\n",
       "      <td>181.24</td>\n",
       "      <td>287.88</td>\n",
       "    </tr>\n",
       "    <tr>\n",
       "      <th>rope jumping</th>\n",
       "      <td>129.11</td>\n",
       "      <td>132.61</td>\n",
       "      <td>0.00</td>\n",
       "      <td>0.00</td>\n",
       "      <td>77.32</td>\n",
       "      <td>2.55</td>\n",
       "      <td>0.00</td>\n",
       "      <td>88.05</td>\n",
       "      <td>63.90</td>\n",
       "    </tr>\n",
       "    <tr>\n",
       "      <th>labeled total</th>\n",
       "      <td>4693.07</td>\n",
       "      <td>2633.35</td>\n",
       "      <td>1743.27</td>\n",
       "      <td>2314.08</td>\n",
       "      <td>4117.97</td>\n",
       "      <td>3623.56</td>\n",
       "      <td>2327.63</td>\n",
       "      <td>4142.75</td>\n",
       "      <td>1652.59</td>\n",
       "    </tr>\n",
       "    <tr>\n",
       "      <th>Total</th>\n",
       "      <td>6957.67</td>\n",
       "      <td>4469.99</td>\n",
       "      <td>2528.32</td>\n",
       "      <td>3295.75</td>\n",
       "      <td>5295.54</td>\n",
       "      <td>4917.78</td>\n",
       "      <td>3135.98</td>\n",
       "      <td>5884.41</td>\n",
       "      <td>2019.47</td>\n",
       "    </tr>\n",
       "  </tbody>\n",
       "</table>\n",
       "</div>"
      ],
      "text/plain": [
       "                         1        2        3        4        5        6  \\\n",
       "Activities                                                                \n",
       "lying               271.86   234.29   220.43   230.46   236.98   233.39   \n",
       "sitting             234.79   223.44   287.60   254.91   268.63   230.40   \n",
       "standing            217.16   255.75   205.32   247.05   221.31   243.55   \n",
       "walking             222.52   325.32   290.35   319.31   320.32   257.20   \n",
       "running             212.64    92.37     0.00     0.00   246.45   228.24   \n",
       "cycling             235.74   251.07     0.00   226.98   245.76   204.85   \n",
       "Nordic walking      202.64   297.38     0.00   275.32   262.70   266.85   \n",
       "watching TV         836.45     0.00     0.00     0.00     0.00     0.00   \n",
       "computer work         0.00     0.00     0.00     0.00  1108.82   617.76   \n",
       "car driving         545.18     0.00     0.00     0.00     0.00     0.00   \n",
       "ascending stairs    158.88   173.40   103.87   166.92   142.79   132.89   \n",
       "descending stairs   148.97   152.11   152.72   142.83   127.25   112.70   \n",
       "vacuum cleaning     229.40   206.82   203.24   200.36   244.44   210.77   \n",
       "ironing             235.72   288.79   279.74   249.94   330.33   377.43   \n",
       "folding laundry     271.13     0.00     0.00     0.00     0.00   217.85   \n",
       "house cleaning      540.88     0.00     0.00     0.00   284.87   287.13   \n",
       "playing soccer        0.00     0.00     0.00     0.00     0.00     0.00   \n",
       "rope jumping        129.11   132.61     0.00     0.00    77.32     2.55   \n",
       "labeled total      4693.07  2633.35  1743.27  2314.08  4117.97  3623.56   \n",
       "Total              6957.67  4469.99  2528.32  3295.75  5295.54  4917.78   \n",
       "\n",
       "                         7        8        9  \n",
       "Activities                                    \n",
       "lying               256.10   241.64     0.00  \n",
       "sitting             122.81   229.22     0.00  \n",
       "standing            257.50   251.59     0.00  \n",
       "walking             337.19   315.32     0.00  \n",
       "running              36.91   165.31     0.00  \n",
       "cycling             226.79   254.74     0.00  \n",
       "Nordic walking      287.24   288.87     0.00  \n",
       "watching TV           0.00     0.00     0.00  \n",
       "computer work         0.00   687.24   685.49  \n",
       "car driving           0.00     0.00     0.00  \n",
       "ascending stairs    176.44   116.81     0.00  \n",
       "descending stairs   116.16    96.53     0.00  \n",
       "vacuum cleaning     215.51   242.91     0.00  \n",
       "ironing             294.98   329.89     0.00  \n",
       "folding laundry       0.00   236.49   273.27  \n",
       "house cleaning        0.00   416.90   342.05  \n",
       "playing soccer        0.00   181.24   287.88  \n",
       "rope jumping          0.00    88.05    63.90  \n",
       "labeled total      2327.63  4142.75  1652.59  \n",
       "Total              3135.98  5884.41  2019.47  "
      ]
     },
     "execution_count": 251,
     "metadata": {},
     "output_type": "execute_result"
    }
   ],
   "source": [
    "activitydurations"
   ]
  },
  {
   "cell_type": "code",
   "execution_count": 252,
   "id": "88a8ac5e",
   "metadata": {},
   "outputs": [
    {
     "data": {
      "text/plain": [
       "271.86"
      ]
     },
     "execution_count": 252,
     "metadata": {},
     "output_type": "execute_result"
    }
   ],
   "source": [
    "activitydurations[1][\"lying\"]"
   ]
  },
  {
   "cell_type": "code",
   "execution_count": 253,
   "id": "d1566e34",
   "metadata": {},
   "outputs": [],
   "source": [
    "def findcalories(Subject,Activity):\n",
    "    weight= 3.5* Caloriesdf.Weight[Subject] # from forumula\n",
    "    MET = activityandMET[Activity]\n",
    "    duration = (activitydurations[Subject][Activity] /60) #duration here is in seconds - change to minutes\n",
    "    calories = (duration) * (weight*MET)/200\n",
    "    if calories >0:\n",
    "        print(\"The amount of calories burnt for Subject {}, performing the activity {} is {} Calories.\".format(Subject,Activity,calories))\n",
    "        \n",
    "    else:\n",
    "        print(\"Subject {}, did not perform the activity {}\".format(Subject,Activity))\n",
    "        \n",
    "    return calories\n",
    "    "
   ]
  },
  {
   "cell_type": "code",
   "execution_count": 254,
   "id": "8efe2828",
   "metadata": {},
   "outputs": [
    {
     "name": "stdout",
     "output_type": "stream",
     "text": [
      "The amount of calories burnt for Subject 2, performing the activity sitting is 9.149868 Calories.\n"
     ]
    },
    {
     "data": {
      "text/plain": [
       "9.149868"
      ]
     },
     "execution_count": 254,
     "metadata": {},
     "output_type": "execute_result"
    }
   ],
   "source": [
    "findcalories(2,\"sitting\")"
   ]
  },
  {
   "cell_type": "code",
   "execution_count": 255,
   "id": "e72c495e",
   "metadata": {
    "scrolled": true
   },
   "outputs": [
    {
     "name": "stdout",
     "output_type": "stream",
     "text": [
      "Subject 3, did not perform the activity rope jumping\n"
     ]
    },
    {
     "data": {
      "text/plain": [
       "0.0"
      ]
     },
     "execution_count": 255,
     "metadata": {},
     "output_type": "execute_result"
    }
   ],
   "source": [
    "findcalories(3,\"rope jumping\")"
   ]
  },
  {
   "cell_type": "code",
   "execution_count": 256,
   "id": "588a55f8",
   "metadata": {},
   "outputs": [
    {
     "name": "stdout",
     "output_type": "stream",
     "text": [
      "lying\n",
      "sitting\n",
      "standing\n",
      "ironing\n",
      "folding laundry\n",
      "ascending stairs\n",
      "descending stairs\n",
      "walking\n",
      "Nordic walking\n",
      "cycling\n",
      "running\n",
      "rope jumping\n"
     ]
    }
   ],
   "source": [
    "for j in activityandMET.keys():\n",
    "    print (j)"
   ]
  },
  {
   "cell_type": "code",
   "execution_count": 257,
   "id": "e19e2cff",
   "metadata": {},
   "outputs": [],
   "source": [
    "def findcalories(Subject,Activity):\n",
    "    a= str(Activity)\n",
    "    weight= 3.5* Caloriesdf.Weight[Subject] # from forumula\n",
    "    MET = float(activityandMET[a])\n",
    "    duration = activitydurations[Subject][Activity]  #duration here is in seconds - change to minutes\n",
    "    calories = (duration/60) * (weight*MET)/200        \n",
    "    return calories\n",
    "    "
   ]
  },
  {
   "cell_type": "code",
   "execution_count": 258,
   "id": "ac97709d",
   "metadata": {},
   "outputs": [
    {
     "name": "stdout",
     "output_type": "stream",
     "text": [
      "0: lying\n",
      "1: sitting\n",
      "2: standing\n",
      "3: ironing\n",
      "4: folding laundry\n",
      "5: ascending stairs\n",
      "6: descending stairs\n",
      "7: walking\n",
      "8: Nordic walking\n",
      "9: cycling\n",
      "10: running\n",
      "11: rope jumping\n"
     ]
    }
   ],
   "source": [
    "for j,word in enumerate((activityandMET.keys())):\n",
    "    print(\"{}: {}\".format(j,word))"
   ]
  },
  {
   "cell_type": "code",
   "execution_count": 259,
   "id": "78d3c6a3",
   "metadata": {
    "scrolled": true
   },
   "outputs": [],
   "source": [
    "scores=np.zeros((10,len(activityandMET)))\n",
    "for i in range(1,10):\n",
    "    for j,word in enumerate((activityandMET.keys())):\n",
    "        scores[i][j] = (findcalories(i,word))\n",
    "        "
   ]
  },
  {
   "cell_type": "code",
   "execution_count": 260,
   "id": "43b8e466",
   "metadata": {},
   "outputs": [],
   "source": [
    "scoresdf = pd.DataFrame(scores,columns=[i for i in activityandMET.keys()])\n",
    "scoresdf = scoresdf.iloc[1:,:]"
   ]
  },
  {
   "cell_type": "code",
   "execution_count": 261,
   "id": "dec90744",
   "metadata": {
    "scrolled": true
   },
   "outputs": [
    {
     "data": {
      "text/html": [
       "<div>\n",
       "<style scoped>\n",
       "    .dataframe tbody tr th:only-of-type {\n",
       "        vertical-align: middle;\n",
       "    }\n",
       "\n",
       "    .dataframe tbody tr th {\n",
       "        vertical-align: top;\n",
       "    }\n",
       "\n",
       "    .dataframe thead th {\n",
       "        text-align: right;\n",
       "    }\n",
       "</style>\n",
       "<table border=\"1\" class=\"dataframe\">\n",
       "  <thead>\n",
       "    <tr style=\"text-align: right;\">\n",
       "      <th></th>\n",
       "      <th>lying</th>\n",
       "      <th>sitting</th>\n",
       "      <th>standing</th>\n",
       "      <th>ironing</th>\n",
       "      <th>folding laundry</th>\n",
       "      <th>ascending stairs</th>\n",
       "      <th>descending stairs</th>\n",
       "      <th>walking</th>\n",
       "      <th>Nordic walking</th>\n",
       "      <th>cycling</th>\n",
       "      <th>running</th>\n",
       "      <th>rope jumping</th>\n",
       "    </tr>\n",
       "  </thead>\n",
       "  <tbody>\n",
       "    <tr>\n",
       "      <th>1</th>\n",
       "      <td>6.581278</td>\n",
       "      <td>10.230974</td>\n",
       "      <td>9.462747</td>\n",
       "      <td>13.124693</td>\n",
       "      <td>22.972619</td>\n",
       "      <td>30.769760</td>\n",
       "      <td>10.818946</td>\n",
       "      <td>19.123276</td>\n",
       "      <td>26.980672</td>\n",
       "      <td>22.827490</td>\n",
       "      <td>38.607450</td>\n",
       "      <td>28.129841</td>\n",
       "    </tr>\n",
       "    <tr>\n",
       "      <th>2</th>\n",
       "      <td>5.330098</td>\n",
       "      <td>9.149868</td>\n",
       "      <td>10.472963</td>\n",
       "      <td>15.110937</td>\n",
       "      <td>0.000000</td>\n",
       "      <td>31.558800</td>\n",
       "      <td>10.381508</td>\n",
       "      <td>26.273656</td>\n",
       "      <td>37.209673</td>\n",
       "      <td>22.847370</td>\n",
       "      <td>15.760631</td>\n",
       "      <td>27.151898</td>\n",
       "    </tr>\n",
       "    <tr>\n",
       "      <th>3</th>\n",
       "      <td>5.914872</td>\n",
       "      <td>13.891080</td>\n",
       "      <td>9.916956</td>\n",
       "      <td>17.264620</td>\n",
       "      <td>0.000000</td>\n",
       "      <td>22.297427</td>\n",
       "      <td>12.293960</td>\n",
       "      <td>27.658257</td>\n",
       "      <td>0.000000</td>\n",
       "      <td>0.000000</td>\n",
       "      <td>0.000000</td>\n",
       "      <td>0.000000</td>\n",
       "    </tr>\n",
       "    <tr>\n",
       "      <th>4</th>\n",
       "      <td>6.385663</td>\n",
       "      <td>12.713636</td>\n",
       "      <td>12.321619</td>\n",
       "      <td>15.928468</td>\n",
       "      <td>0.000000</td>\n",
       "      <td>37.000600</td>\n",
       "      <td>11.872744</td>\n",
       "      <td>31.408795</td>\n",
       "      <td>41.957621</td>\n",
       "      <td>25.156950</td>\n",
       "      <td>0.000000</td>\n",
       "      <td>0.000000</td>\n",
       "    </tr>\n",
       "    <tr>\n",
       "      <th>5</th>\n",
       "      <td>5.045699</td>\n",
       "      <td>10.295245</td>\n",
       "      <td>8.481706</td>\n",
       "      <td>16.176535</td>\n",
       "      <td>0.000000</td>\n",
       "      <td>24.321897</td>\n",
       "      <td>8.128094</td>\n",
       "      <td>24.211521</td>\n",
       "      <td>30.763265</td>\n",
       "      <td>20.930560</td>\n",
       "      <td>39.354984</td>\n",
       "      <td>14.816445</td>\n",
       "    </tr>\n",
       "    <tr>\n",
       "      <th>6</th>\n",
       "      <td>4.696974</td>\n",
       "      <td>8.346240</td>\n",
       "      <td>8.822599</td>\n",
       "      <td>17.470291</td>\n",
       "      <td>15.344809</td>\n",
       "      <td>21.395290</td>\n",
       "      <td>6.804263</td>\n",
       "      <td>18.375332</td>\n",
       "      <td>29.536959</td>\n",
       "      <td>16.490425</td>\n",
       "      <td>34.449975</td>\n",
       "      <td>0.461869</td>\n",
       "    </tr>\n",
       "    <tr>\n",
       "      <th>7</th>\n",
       "      <td>6.423842</td>\n",
       "      <td>5.544872</td>\n",
       "      <td>11.626125</td>\n",
       "      <td>17.017888</td>\n",
       "      <td>0.000000</td>\n",
       "      <td>35.405627</td>\n",
       "      <td>8.741040</td>\n",
       "      <td>30.025365</td>\n",
       "      <td>39.627152</td>\n",
       "      <td>22.754597</td>\n",
       "      <td>6.943694</td>\n",
       "      <td>0.000000</td>\n",
       "    </tr>\n",
       "    <tr>\n",
       "      <th>8</th>\n",
       "      <td>6.131615</td>\n",
       "      <td>10.469624</td>\n",
       "      <td>11.491373</td>\n",
       "      <td>19.253205</td>\n",
       "      <td>21.003268</td>\n",
       "      <td>23.712430</td>\n",
       "      <td>7.348346</td>\n",
       "      <td>28.404420</td>\n",
       "      <td>40.315419</td>\n",
       "      <td>25.856110</td>\n",
       "      <td>31.460559</td>\n",
       "      <td>20.108419</td>\n",
       "    </tr>\n",
       "    <tr>\n",
       "      <th>9</th>\n",
       "      <td>0.000000</td>\n",
       "      <td>0.000000</td>\n",
       "      <td>0.000000</td>\n",
       "      <td>0.000000</td>\n",
       "      <td>18.132603</td>\n",
       "      <td>0.000000</td>\n",
       "      <td>0.000000</td>\n",
       "      <td>0.000000</td>\n",
       "      <td>0.000000</td>\n",
       "      <td>0.000000</td>\n",
       "      <td>0.000000</td>\n",
       "      <td>10.902938</td>\n",
       "    </tr>\n",
       "  </tbody>\n",
       "</table>\n",
       "</div>"
      ],
      "text/plain": [
       "      lying    sitting   standing    ironing  folding laundry  \\\n",
       "1  6.581278  10.230974   9.462747  13.124693        22.972619   \n",
       "2  5.330098   9.149868  10.472963  15.110937         0.000000   \n",
       "3  5.914872  13.891080   9.916956  17.264620         0.000000   \n",
       "4  6.385663  12.713636  12.321619  15.928468         0.000000   \n",
       "5  5.045699  10.295245   8.481706  16.176535         0.000000   \n",
       "6  4.696974   8.346240   8.822599  17.470291        15.344809   \n",
       "7  6.423842   5.544872  11.626125  17.017888         0.000000   \n",
       "8  6.131615  10.469624  11.491373  19.253205        21.003268   \n",
       "9  0.000000   0.000000   0.000000   0.000000        18.132603   \n",
       "\n",
       "   ascending stairs  descending stairs    walking  Nordic walking    cycling  \\\n",
       "1         30.769760          10.818946  19.123276       26.980672  22.827490   \n",
       "2         31.558800          10.381508  26.273656       37.209673  22.847370   \n",
       "3         22.297427          12.293960  27.658257        0.000000   0.000000   \n",
       "4         37.000600          11.872744  31.408795       41.957621  25.156950   \n",
       "5         24.321897           8.128094  24.211521       30.763265  20.930560   \n",
       "6         21.395290           6.804263  18.375332       29.536959  16.490425   \n",
       "7         35.405627           8.741040  30.025365       39.627152  22.754597   \n",
       "8         23.712430           7.348346  28.404420       40.315419  25.856110   \n",
       "9          0.000000           0.000000   0.000000        0.000000   0.000000   \n",
       "\n",
       "     running  rope jumping  \n",
       "1  38.607450     28.129841  \n",
       "2  15.760631     27.151898  \n",
       "3   0.000000      0.000000  \n",
       "4   0.000000      0.000000  \n",
       "5  39.354984     14.816445  \n",
       "6  34.449975      0.461869  \n",
       "7   6.943694      0.000000  \n",
       "8  31.460559     20.108419  \n",
       "9   0.000000     10.902938  "
      ]
     },
     "execution_count": 261,
     "metadata": {},
     "output_type": "execute_result"
    }
   ],
   "source": [
    "scoresdf"
   ]
  },
  {
   "cell_type": "markdown",
   "id": "6528d060",
   "metadata": {},
   "source": [
    "The Above is my data frame to show you how many calories each subject (rows) burn performing differente activties. The activities displayed are not all the activities performed - however with my calulators which uses MET score this was not possible to do without having the predefined MET scores. It is clear to see that activites which induced more calories burn include Nordic walking, running and ascending stairs."
   ]
  },
  {
   "cell_type": "markdown",
   "id": "b8e8aa12",
   "metadata": {},
   "source": [
    "# EDA"
   ]
  },
  {
   "cell_type": "code",
   "execution_count": 144,
   "id": "a0e7dae1",
   "metadata": {
    "scrolled": false
   },
   "outputs": [
    {
     "data": {
      "image/png": "[encoded data removed]",
      "text/plain": [
       "<Figure size 864x432 with 1 Axes>"
      ]
     },
     "metadata": {
      "needs_background": "light"
     },
     "output_type": "display_data"
    }
   ],
   "source": [
    "pamap2_df[\"activityID\"].value_counts().plot(kind=\"bar\",figsize=(12,6)) #using bar charts to visually display recorded data\n",
    "plt.xlabel(\"Activity ID\")\n",
    "plt.ylabel(\"Seconds Recorded For Activity\")\n",
    "plt.title(\"(Figure 1) Amount of Recorded Data for Different Activities\")\n",
    "plt.show()"
   ]
  },
  {
   "cell_type": "markdown",
   "id": "518a28d5",
   "metadata": {},
   "source": [
    "The above shows which activities have the most recorded time. Clearly, activities 4 and 17 which correspond to walking and ironing have the most data. Whereas rope jumping (Activity 24) does not have enough data therefore the dataset is imbalanced. However, there is still plenty to analyse.  Similarity from the PAS data frame you can see that Subject 109 did not complete much of the exercise and their recorded data is sparse."
   ]
  },
  {
   "cell_type": "markdown",
   "id": "13681856",
   "metadata": {},
   "source": [
    "### Heart Rate Analysis"
   ]
  },
  {
   "cell_type": "code",
   "execution_count": 145,
   "id": "4cc6e782",
   "metadata": {
    "scrolled": false
   },
   "outputs": [
    {
     "data": {
      "image/png": "[encoded data removed]",
      "text/plain": [
       "<Figure size 864x576 with 1 Axes>"
      ]
     },
     "metadata": {
      "needs_background": "light"
     },
     "output_type": "display_data"
    }
   ],
   "source": [
    "#here I group all activity ID to display the differences in heart rates\n",
    "df_hr_act = pamap2_df['heartrate'].groupby(pamap2_df['activityID']).mean()\n",
    "df_hr_act.index = df_hr_act.index.map(activityID)\n",
    "df_hr_act = df_hr_act.sort_values()\n",
    "df_hr_act.plot(kind = \"bar\", figsize= (12,8))\n",
    "plt.ylabel(\"Average Heart Rate BPM\")\n",
    "plt.title(\"(Figure 2) Heart Rates for Different Activities\")\n",
    "plt.show()\n"
   ]
  },
  {
   "cell_type": "markdown",
   "id": "711dddc5",
   "metadata": {},
   "source": [
    "The above simply shows that the activities of rope jumping and running were the most intense. The easiest activity \"lying\" had an average heart rate just slightly below 80. This is great information as the average resting heart rate is 65 BPM. This indicates that every activity including those that seemingly shouldn't affect heart rate had an increase in their heart rates."
   ]
  },
  {
   "cell_type": "code",
   "execution_count": 146,
   "id": "454ca905",
   "metadata": {
    "scrolled": false
   },
   "outputs": [
    {
     "data": {
      "image/png": "[encoded data removed]",
      "text/plain": [
       "<Figure size 864x576 with 1 Axes>"
      ]
     },
     "metadata": {
      "needs_background": "light"
     },
     "output_type": "display_data"
    }
   ],
   "source": [
    "#here I group all subjects together to display the differences in heart rates\n",
    "heart_rates = pamap2_df['heartrate'].groupby(pamap2_df['subjectID']).mean()\n",
    "heart_rates = heart_rates.sort_values()\n",
    "heart_rates.plot(kind = \"bar\", figsize= (12,8))\n",
    "plt.ylabel(\"Average Heart Rate BPM\")\n",
    "plt.title(\"(Figure 3) Heart Rates for Different Activities\")\n",
    "plt.show()"
   ]
  },
  {
   "cell_type": "code",
   "execution_count": 147,
   "id": "31a30aa6",
   "metadata": {
    "scrolled": false
   },
   "outputs": [
    {
     "data": {
      "image/png": "[encoded data removed]",
      "text/plain": [
       "<Figure size 576x864 with 1 Axes>"
      ]
     },
     "metadata": {
      "needs_background": "light"
     },
     "output_type": "display_data"
    }
   ],
   "source": [
    "#box plot visualisation of average heart rate. All values outside the whisker are outliers\n",
    "fig, ax = plt.subplots(figsize=(8,12)) \n",
    "plt.title(\"(Figure 4) Average Heart Rate for all activities together\")\n",
    "ax = sns.boxplot(y=pamap2_df[\"heartrate\"])"
   ]
  },
  {
   "cell_type": "markdown",
   "id": "874119e4",
   "metadata": {},
   "source": [
    "From the above box plot it is clear to see that the heart rates had no skew which indicates that all the recorded activities are nicely spread out $\\implies$ there are equal amounts of data for the range of activity difficulty."
   ]
  },
  {
   "cell_type": "code",
   "execution_count": 148,
   "id": "dd3be3d5",
   "metadata": {},
   "outputs": [],
   "source": [
    "def boxplot(df,by1,by2,figure): #method to display multiple box plots on one plot that are grouped by acitvityID\n",
    "    pamap2_df.boxplot(by = by1,column=[by2],grid=True,figsize= (12,6))\n",
    "    title_boxplot = figure\n",
    "    plt.title(title_boxplot)\n",
    "    plt.ylabel(\"Measured by {}\".format(by2))\n",
    "    plt.show()"
   ]
  },
  {
   "cell_type": "code",
   "execution_count": 149,
   "id": "81fade79",
   "metadata": {
    "scrolled": false
   },
   "outputs": [
    {
     "data": {
      "image/png": "[encoded data removed]",
      "text/plain": [
       "<Figure size 864x432 with 1 Axes>"
      ]
     },
     "metadata": {
      "needs_background": "light"
     },
     "output_type": "display_data"
    }
   ],
   "source": [
    "boxplot(pamap2_df,\"activityID\",\"heartrate\", \"(figure 5)\")"
   ]
  },
  {
   "cell_type": "markdown",
   "id": "7a86bc68",
   "metadata": {},
   "source": [
    "As you can see activity 14 and 5 have the highest mean heart rates. From this, I will perform analysis to determine if these two are significantly more impactful on heart rate compared to weaker activity 1 or 2. My hypothesis determines that subjects that conducted activity 2 will have a warmer hand temperature than those in activity 24. Before I can do this I need to split the data into development and test sets."
   ]
  },
  {
   "cell_type": "markdown",
   "id": "bbac0820",
   "metadata": {},
   "source": [
    "### Temperature Analysis\n"
   ]
  },
  {
   "cell_type": "code",
   "execution_count": 150,
   "id": "629259a6",
   "metadata": {},
   "outputs": [],
   "source": [
    "idgrouped = pamap2_df.groupby([\"subjectID\"]).mean().reset_index() #allows me to select certain features from grouped subjectIDs"
   ]
  },
  {
   "cell_type": "code",
   "execution_count": 151,
   "id": "449880d6",
   "metadata": {
    "scrolled": false
   },
   "outputs": [
    {
     "data": {
      "image/png": "[encoded data removed]",
      "text/plain": [
       "<Figure size 1440x576 with 1 Axes>"
      ]
     },
     "metadata": {
      "needs_background": "light"
     },
     "output_type": "display_data"
    }
   ],
   "source": [
    "temps = pd.DataFrame()\n",
    "temps[\"handTemp\"] = idgrouped[\"handTemp\"] #from grouped data I am able to select out the features I wish to display\n",
    "temps[\"chestTemps\"]= idgrouped[\"chestTemp\"]\n",
    "temps[\"ankleTemps\"]= idgrouped[\"ankleTemp\"]\n",
    "axes = temps.plot(kind=\"line\", figsize=(20,8), title= \"(Figure 6) Temperatures for all IMUs of Different Activities\")\n",
    "plt.xticks(idgrouped[\"subjectID\"]) #sorts the x labels\n",
    "plt.ylabel(\"Average Temperate\")\n",
    "plt.xlabel(\"Subject ID\")\n",
    "plt.show()"
   ]
  },
  {
   "cell_type": "markdown",
   "id": "7874cff9",
   "metadata": {},
   "source": [
    "Above we can see the average heart rates measured on all IMUS for the different participants. Subject Number 5 had the highest recorded hand temperature as well as the highest recorded ankle temperature. All the hand temperatures were very low compared to the average temperature normal temperature of $36 ^oC$ to  $35 ^oC$. Thus from the above analysis, I will take aim to look at hand temperature as the main research objective."
   ]
  },
  {
   "cell_type": "code",
   "execution_count": 152,
   "id": "4494ce42",
   "metadata": {
    "scrolled": false
   },
   "outputs": [
    {
     "data": {
      "image/png": "[encoded data removed]",
      "text/plain": [
       "<Figure size 864x432 with 1 Axes>"
      ]
     },
     "metadata": {
      "needs_background": "light"
     },
     "output_type": "display_data"
    }
   ],
   "source": [
    "boxplot(pamap2_df,\"activityID\",\"handTemp\",\"(figure 7)\")"
   ]
  },
  {
   "cell_type": "code",
   "execution_count": 153,
   "id": "3cdf76e5",
   "metadata": {},
   "outputs": [
    {
     "data": {
      "image/png": "[encoded data removed]",
      "text/plain": [
       "<Figure size 864x432 with 1 Axes>"
      ]
     },
     "metadata": {
      "needs_background": "light"
     },
     "output_type": "display_data"
    }
   ],
   "source": [
    "boxplot(pamap2_df,\"activityID\",\"chestTemp\",\"(figure 8)\")"
   ]
  },
  {
   "cell_type": "code",
   "execution_count": 154,
   "id": "90e4cb58",
   "metadata": {
    "scrolled": false
   },
   "outputs": [
    {
     "data": {
      "image/png": "[encoded data removed]",
      "text/plain": [
       "<Figure size 864x432 with 1 Axes>"
      ]
     },
     "metadata": {
      "needs_background": "light"
     },
     "output_type": "display_data"
    }
   ],
   "source": [
    "boxplot(pamap2_df,\"activityID\",\"ankleTemp\",\"(figure 9)\")"
   ]
  },
  {
   "cell_type": "code",
   "execution_count": 155,
   "id": "66891a53",
   "metadata": {
    "scrolled": false
   },
   "outputs": [
    {
     "data": {
      "image/png": "[encoded data removed]",
      "text/plain": [
       "<Figure size 1440x1008 with 3 Axes>"
      ]
     },
     "metadata": {
      "needs_background": "light"
     },
     "output_type": "display_data"
    }
   ],
   "source": [
    "# plots to display the different activities with their respective temperatures\n",
    "# this makes it easy to compare and contrast\n",
    "plt.figure(figsize=(20,14))\n",
    "plt.setp(ax, xlim=(30,40))\n",
    "ax1=plt.subplot(221)\n",
    "ax1.set_title('(Figure 10) Temperature of chest')\n",
    "ax1.set_xlabel('Temperature')\n",
    "pamap2_df[\"chestTemp\"].groupby(pamap2_df.activityID.map(activityID)).mean().sort_values(ascending=True).plot(kind='barh')\n",
    "ax1.set_xlim([30,38])\n",
    "ax2 = plt.subplot(222)\n",
    "ax2.set_title('(Figure 11)Temperature of hand')\n",
    "ax2.set_xlabel('Temperature')\n",
    "pamap2_df['handTemp'].groupby(pamap2_df.activityID.map(activityID)).mean().sort_values(ascending=True).plot(kind='barh')\n",
    "ax2.set_xlim([30,38])\n",
    "ax3= plt.subplot(223)\n",
    "ax3.set_title('(Figure 12) Temperature of ankle')\n",
    "ax3.set_xlabel('Temperature')\n",
    "pamap2_df['ankleTemp'].groupby(pamap2_df.activityID.map(activityID)).mean().sort_values(ascending=True).plot(kind='barh')\n",
    "ax3.set_xlim([30,38])\n",
    "plt.show()"
   ]
  },
  {
   "cell_type": "markdown",
   "id": "2e0af8c3",
   "metadata": {},
   "source": [
    "From the above figures, we notice that different activities affect the IMU heat sensors differently. All the charts show that activity 17 (Vacuum Cleaning) causes the highest temperature in the body overall. Similarly, activity 24 (Jump Rope) has the opposite effect, the temperature over the sensors was the lowest. From the temperature analysis 24 (Rope Jump), 5 (Running), and 6 (Cycling) were consistently at the lower end of the temperature - always being in the lowest 4 recorded. These were the activities that were listed as \"Vigorous Activities\" which leads me to my hypothesis in the next section."
   ]
  },
  {
   "cell_type": "markdown",
   "id": "e49a560f",
   "metadata": {},
   "source": [
    "I will perform a quick correlation test using the test set. This test data frame is small and should provide me with a sufficient hypothesis basis to then further test the assumptions made from this data frame. The heat map method is the most efficient way to quickly spot correlations between different features."
   ]
  },
  {
   "cell_type": "markdown",
   "id": "2f8a92c6",
   "metadata": {},
   "source": [
    "#### Development and Testing split\n",
    "Usually a 70/30 split is normal however, the sample size here is very small so I have opted for a 80/20 split to get more accurate measurements."
   ]
  },
  {
   "cell_type": "code",
   "execution_count": 156,
   "id": "e2073d8c",
   "metadata": {},
   "outputs": [],
   "source": [
    "dev_df = pamap2_df.sample(frac=0.8,random_state=1) #fractional split of data 80/20 allows more training data\n",
    "test_df = pamap2_df.drop(dev_df.index)"
   ]
  },
  {
   "cell_type": "code",
   "execution_count": 157,
   "id": "e9594f62",
   "metadata": {},
   "outputs": [
    {
     "data": {
      "text/html": [
       "<div>\n",
       "<style scoped>\n",
       "    .dataframe tbody tr th:only-of-type {\n",
       "        vertical-align: middle;\n",
       "    }\n",
       "\n",
       "    .dataframe tbody tr th {\n",
       "        vertical-align: top;\n",
       "    }\n",
       "\n",
       "    .dataframe thead th {\n",
       "        text-align: right;\n",
       "    }\n",
       "</style>\n",
       "<table border=\"1\" class=\"dataframe\">\n",
       "  <thead>\n",
       "    <tr style=\"text-align: right;\">\n",
       "      <th></th>\n",
       "      <th>timestamp</th>\n",
       "      <th>activityID</th>\n",
       "      <th>heartrate</th>\n",
       "      <th>handTemp</th>\n",
       "      <th>handAc16_1</th>\n",
       "      <th>handAc16_2</th>\n",
       "      <th>handAc16_3</th>\n",
       "      <th>handGyro1</th>\n",
       "      <th>handGyro2</th>\n",
       "      <th>handGyro3</th>\n",
       "      <th>...</th>\n",
       "      <th>handmean_mag</th>\n",
       "      <th>handmean_temp</th>\n",
       "      <th>chestmean_acc16</th>\n",
       "      <th>chestmean_gyro</th>\n",
       "      <th>chestmean_mag</th>\n",
       "      <th>chestmean_temp</th>\n",
       "      <th>anklemean_acc16</th>\n",
       "      <th>anklemean_gyro</th>\n",
       "      <th>anklemean_mag</th>\n",
       "      <th>anklemean_temp</th>\n",
       "    </tr>\n",
       "  </thead>\n",
       "  <tbody>\n",
       "    <tr>\n",
       "      <th>1666600</th>\n",
       "      <td>2998.83</td>\n",
       "      <td>6</td>\n",
       "      <td>121.0</td>\n",
       "      <td>32.6875</td>\n",
       "      <td>-0.345451</td>\n",
       "      <td>4.05097</td>\n",
       "      <td>9.951000</td>\n",
       "      <td>0.429572</td>\n",
       "      <td>0.216456</td>\n",
       "      <td>0.190818</td>\n",
       "      <td>...</td>\n",
       "      <td>-15.855767</td>\n",
       "      <td>32.6875</td>\n",
       "      <td>1.269867</td>\n",
       "      <td>0.259798</td>\n",
       "      <td>-8.421523</td>\n",
       "      <td>37.6250</td>\n",
       "      <td>3.221123</td>\n",
       "      <td>0.371868</td>\n",
       "      <td>-7.378983</td>\n",
       "      <td>32.1250</td>\n",
       "    </tr>\n",
       "    <tr>\n",
       "      <th>1101093</th>\n",
       "      <td>2482.12</td>\n",
       "      <td>4</td>\n",
       "      <td>115.0</td>\n",
       "      <td>34.6875</td>\n",
       "      <td>-6.983330</td>\n",
       "      <td>2.38916</td>\n",
       "      <td>0.774151</td>\n",
       "      <td>-0.900728</td>\n",
       "      <td>-0.235042</td>\n",
       "      <td>2.055680</td>\n",
       "      <td>...</td>\n",
       "      <td>-5.587467</td>\n",
       "      <td>34.6875</td>\n",
       "      <td>3.801073</td>\n",
       "      <td>0.016640</td>\n",
       "      <td>-10.309800</td>\n",
       "      <td>38.3125</td>\n",
       "      <td>2.559825</td>\n",
       "      <td>-0.512064</td>\n",
       "      <td>-20.804823</td>\n",
       "      <td>34.3125</td>\n",
       "    </tr>\n",
       "    <tr>\n",
       "      <th>798258</th>\n",
       "      <td>1298.85</td>\n",
       "      <td>16</td>\n",
       "      <td>118.0</td>\n",
       "      <td>33.6875</td>\n",
       "      <td>-9.550300</td>\n",
       "      <td>6.32152</td>\n",
       "      <td>5.456380</td>\n",
       "      <td>0.936809</td>\n",
       "      <td>-0.673681</td>\n",
       "      <td>0.097682</td>\n",
       "      <td>...</td>\n",
       "      <td>11.768347</td>\n",
       "      <td>33.6875</td>\n",
       "      <td>-5.665353</td>\n",
       "      <td>0.096961</td>\n",
       "      <td>24.973416</td>\n",
       "      <td>36.0000</td>\n",
       "      <td>4.359142</td>\n",
       "      <td>0.002954</td>\n",
       "      <td>-3.094933</td>\n",
       "      <td>34.4375</td>\n",
       "    </tr>\n",
       "    <tr>\n",
       "      <th>1501381</th>\n",
       "      <td>736.38</td>\n",
       "      <td>3</td>\n",
       "      <td>76.0</td>\n",
       "      <td>33.2500</td>\n",
       "      <td>-9.296610</td>\n",
       "      <td>2.64193</td>\n",
       "      <td>1.546880</td>\n",
       "      <td>0.200403</td>\n",
       "      <td>-0.121450</td>\n",
       "      <td>0.064111</td>\n",
       "      <td>...</td>\n",
       "      <td>2.165473</td>\n",
       "      <td>33.2500</td>\n",
       "      <td>3.802233</td>\n",
       "      <td>-0.093859</td>\n",
       "      <td>-13.351650</td>\n",
       "      <td>35.9375</td>\n",
       "      <td>1.662009</td>\n",
       "      <td>-0.021685</td>\n",
       "      <td>3.555903</td>\n",
       "      <td>32.5000</td>\n",
       "    </tr>\n",
       "    <tr>\n",
       "      <th>1092386</th>\n",
       "      <td>2395.05</td>\n",
       "      <td>4</td>\n",
       "      <td>111.0</td>\n",
       "      <td>34.6250</td>\n",
       "      <td>-16.815900</td>\n",
       "      <td>9.56608</td>\n",
       "      <td>5.490550</td>\n",
       "      <td>-2.144350</td>\n",
       "      <td>0.028900</td>\n",
       "      <td>-6.196890</td>\n",
       "      <td>...</td>\n",
       "      <td>0.034267</td>\n",
       "      <td>34.6250</td>\n",
       "      <td>3.816830</td>\n",
       "      <td>-0.245351</td>\n",
       "      <td>-7.704833</td>\n",
       "      <td>38.1875</td>\n",
       "      <td>-2.405777</td>\n",
       "      <td>-0.128600</td>\n",
       "      <td>-13.774567</td>\n",
       "      <td>34.1250</td>\n",
       "    </tr>\n",
       "  </tbody>\n",
       "</table>\n",
       "<p>5 rows × 48 columns</p>\n",
       "</div>"
      ],
      "text/plain": [
       "         timestamp  activityID  heartrate  handTemp  handAc16_1  handAc16_2  \\\n",
       "1666600    2998.83           6      121.0   32.6875   -0.345451     4.05097   \n",
       "1101093    2482.12           4      115.0   34.6875   -6.983330     2.38916   \n",
       "798258     1298.85          16      118.0   33.6875   -9.550300     6.32152   \n",
       "1501381     736.38           3       76.0   33.2500   -9.296610     2.64193   \n",
       "1092386    2395.05           4      111.0   34.6250  -16.815900     9.56608   \n",
       "\n",
       "         handAc16_3  handGyro1  handGyro2  handGyro3  ...  handmean_mag  \\\n",
       "1666600    9.951000   0.429572   0.216456   0.190818  ...    -15.855767   \n",
       "1101093    0.774151  -0.900728  -0.235042   2.055680  ...     -5.587467   \n",
       "798258     5.456380   0.936809  -0.673681   0.097682  ...     11.768347   \n",
       "1501381    1.546880   0.200403  -0.121450   0.064111  ...      2.165473   \n",
       "1092386    5.490550  -2.144350   0.028900  -6.196890  ...      0.034267   \n",
       "\n",
       "         handmean_temp  chestmean_acc16  chestmean_gyro  chestmean_mag  \\\n",
       "1666600        32.6875         1.269867        0.259798      -8.421523   \n",
       "1101093        34.6875         3.801073        0.016640     -10.309800   \n",
       "798258         33.6875        -5.665353        0.096961      24.973416   \n",
       "1501381        33.2500         3.802233       -0.093859     -13.351650   \n",
       "1092386        34.6250         3.816830       -0.245351      -7.704833   \n",
       "\n",
       "         chestmean_temp  anklemean_acc16  anklemean_gyro  anklemean_mag  \\\n",
       "1666600         37.6250         3.221123        0.371868      -7.378983   \n",
       "1101093         38.3125         2.559825       -0.512064     -20.804823   \n",
       "798258          36.0000         4.359142        0.002954      -3.094933   \n",
       "1501381         35.9375         1.662009       -0.021685       3.555903   \n",
       "1092386         38.1875        -2.405777       -0.128600     -13.774567   \n",
       "\n",
       "         anklemean_temp  \n",
       "1666600         32.1250  \n",
       "1101093         34.3125  \n",
       "798258          34.4375  \n",
       "1501381         32.5000  \n",
       "1092386         34.1250  \n",
       "\n",
       "[5 rows x 48 columns]"
      ]
     },
     "execution_count": 157,
     "metadata": {},
     "output_type": "execute_result"
    }
   ],
   "source": [
    "dev_df.head(5)"
   ]
  },
  {
   "cell_type": "code",
   "execution_count": 158,
   "id": "da1be185",
   "metadata": {},
   "outputs": [
    {
     "data": {
      "text/plain": [
       "timestamp          1609.095045\n",
       "activityID            9.125781\n",
       "heartrate           104.405717\n",
       "handTemp             32.977092\n",
       "handAc16_1           -4.011723\n",
       "handAc16_2            3.562060\n",
       "handAc16_3            3.786102\n",
       "handGyro1             0.001428\n",
       "handGyro2             0.038767\n",
       "handGyro3            -0.006374\n",
       "handMag1             18.634835\n",
       "handMag2            -15.729340\n",
       "handMag3            -24.118974\n",
       "handOri4             -0.080505\n",
       "chestTemp            36.056393\n",
       "chestAc16_1           0.372890\n",
       "chestAc16_2           8.139194\n",
       "chestAc16_3          -1.048423\n",
       "chestGyro1            0.004534\n",
       "chestGyro2            0.006470\n",
       "chestGyro3           -0.020989\n",
       "chestMag1             2.824871\n",
       "chestMag2           -30.858604\n",
       "chestMag3             3.517788\n",
       "ankleTemp            33.742862\n",
       "ankleAc16_1           8.990916\n",
       "ankleAc16_2          -0.420597\n",
       "ankleAc16_3          -2.784280\n",
       "ankleGyro1            0.007327\n",
       "ankleGyro2           -0.028484\n",
       "ankleGyro3            0.005551\n",
       "ankleMag1           -29.619750\n",
       "ankleMag2             1.606590\n",
       "ankleMag3            17.931528\n",
       "subjectID             4.473356\n",
       "handmean_acc16        1.112147\n",
       "handmean_gyro         0.011274\n",
       "handmean_mag         -7.071159\n",
       "handmean_temp        32.977092\n",
       "chestmean_acc16       2.487887\n",
       "chestmean_gyro       -0.003328\n",
       "chestmean_mag        -8.171982\n",
       "chestmean_temp       36.056393\n",
       "anklemean_acc16       1.928680\n",
       "anklemean_gyro       -0.005202\n",
       "anklemean_mag        -3.360544\n",
       "anklemean_temp       33.742862\n",
       "Name: mean, dtype: float64"
      ]
     },
     "execution_count": 158,
     "metadata": {},
     "output_type": "execute_result"
    }
   ],
   "source": [
    "pamap2_df.describe().loc[\"mean\"]"
   ]
  },
  {
   "cell_type": "code",
   "execution_count": 159,
   "id": "89e207cb",
   "metadata": {
    "scrolled": false
   },
   "outputs": [
    {
     "data": {
      "image/png": "[encoded data removed]",
      "text/plain": [
       "<Figure size 1080x720 with 2 Axes>"
      ]
     },
     "metadata": {
      "needs_background": "light"
     },
     "output_type": "display_data"
    }
   ],
   "source": [
    "pamap2_corr = test_df.corr() #quick correlation check\n",
    "f, ax = plt.subplots(figsize=(15,10))\n",
    "sns.heatmap(pamap2_corr,mask=np.zeros_like(pamap2_corr),cmap = \"seismic\",ax=ax) #seaborn is an easy way to plot the heat map\n",
    "plt.title(\"(Figure 13) Heat Map showing correlation between features\")\n",
    "plt.show()"
   ]
  },
  {
   "cell_type": "markdown",
   "id": "d9b7cf9b",
   "metadata": {},
   "source": [
    "From the above, it is noticeable that heart rate and hand temp are strongly negatively correlated. Thus I wish to see if those activities that had lower recorded hand temperature also had higher heart rates. And thus inturn implies that activities that are more physically demanding will result in hand temperature decreasing.\n",
    "\n",
    "Below I will perform another heat map to quickly and fairly accurately analyse the correlation between the features of heart rate with activity ID and subject ID, Then I move on to Hand temperature against the same variables. This will give me a basis to make further analysis in the section to follow."
   ]
  },
  {
   "cell_type": "code",
   "execution_count": 160,
   "id": "8976b286",
   "metadata": {},
   "outputs": [
    {
     "data": {
      "image/png": "[encoded data removed]",
      "text/plain": [
       "<Figure size 720x720 with 2 Axes>"
      ]
     },
     "metadata": {
      "needs_background": "light"
     },
     "output_type": "display_data"
    }
   ],
   "source": [
    "#plot to view the heart rate correlation with Activity ID and Subject Id\n",
    "\n",
    "df = test_df.groupby([\"activityID\",\"subjectID\"] , as_index=False).mean()[[\"activityID\",\"subjectID\",\"heartrate\"]].pivot(index=\"activityID\",columns=\"subjectID\",values=\"heartrate\")\n",
    "fig=plt.figure(figsize=(10,10))\n",
    "ax = fig.gca() \n",
    "sns.heatmap(df, cmap = \"RdPu\",annot= True,fmt='g')\n",
    "ax.set_title(\"(Figure 14) Heart Rate correlation by Activity and Subject\");\n"
   ]
  },
  {
   "cell_type": "code",
   "execution_count": 161,
   "id": "5549050c",
   "metadata": {},
   "outputs": [
    {
     "data": {
      "image/png": "[encoded data removed]",
      "text/plain": [
       "<Figure size 720x720 with 2 Axes>"
      ]
     },
     "metadata": {
      "needs_background": "light"
     },
     "output_type": "display_data"
    }
   ],
   "source": [
    "#Plot to view the correlation with different hand temperatures against the activity performed and the subject performing it\n",
    "df = test_df.groupby([\"activityID\",\"subjectID\"] , as_index=False).mean()[[\"activityID\",\"subjectID\",\"handTemp\"]].pivot(index=\"activityID\",columns=\"subjectID\",values=\"handTemp\")\n",
    "fig=plt.figure(figsize=(10,10))\n",
    "ax = fig.gca() \n",
    "sns.heatmap(df, cmap = \"RdPu\",annot= True)\n",
    "ax.set_title(\"(Figure 15)HandTemp correlation by Activity and Subject\");\n"
   ]
  },
  {
   "cell_type": "markdown",
   "id": "ce1c47e2",
   "metadata": {},
   "source": [
    "Figure 15 clearly shows that subject 5 had higher overall heat throughout their entire body compared to the other subjects. It is noticeable that the temperatures are specific to the individuals and are affected by their specific bodies.\n"
   ]
  },
  {
   "cell_type": "markdown",
   "id": "cca7d4e7",
   "metadata": {},
   "source": [
    "It is seen from figure 15 that activity 24 and activity 5 which are rope jump rope and running respectively had a low hand temperature over all subjects. These activities (looking at figure 14) also had a high overall heart rate from the subjects. This has led me to perform an analysis to determine if these two features are significantly linked: heart rate and hand temperature. Thus I believe that activities that are more demanding on the body (higher heart rate) will in turn reduce the temperature of the subject's hand."
   ]
  },
  {
   "cell_type": "markdown",
   "id": "4a767c8c",
   "metadata": {},
   "source": [
    "## Section 3: Hypothesis testing\n",
    "The purpose of hypothesis testing is to determine whether there is enough statistical evidence in favor of a certain belief, or hypothesis, about a parameter.\n",
    "\n",
    "From the subjects that conducted both activity 2 and 24, those in activity 24 will have colder hand temperature compared to those in activity 24.\n",
    "I present the following hypothesis test : \n",
    "\n",
    "### Hypothesis 1 )\n",
    "**If increased heart rate reduces hand temperature then activites which are more physically demanding will in turn have lower hand temperature.**\n",
    "\n",
    "\n",
    "$\\mu_A$ = Mean hand temperature for activity 2(sitting)\n",
    "$\\mu_B$ = Mean hand temperature for activity 24(rope jumping)\n",
    "\n",
    "$$ Null: H_0 : \\mu_A = \\mu_B$$\n",
    "$$ Alternative: H_1 : \\mu_A > \\mu_B$$\n",
    "\n",
    "$$t = \\frac{(\\bar{X_A} - \\bar{X_B}) + (\\mu_A - \\mu_B)}{\\sqrt{ \\frac{S^2}{n_A} + \\frac{S^2}{n_B} }}$$\n",
    "\n",
    "From the calculations above and our two sample means are $\\bar{X_A}$ and $X_B$, testing on the hypothesis $\\mu_A$ and $\\mu_B$ are equal which leads to the following used formula:\n",
    "$$t = \\frac{(\\bar{X_A} - \\bar{X_B})}{\\sqrt{ \\frac{S_A^2}{n_A} + \\frac{S_B^2}{n_B} }}$$\n",
    "\n",
    "We are going to perform a one tailed 99% confidence test which gives our $\\alpha = 0.01$\n",
    "\n",
    "This will be conducted using a z-test since the sample size is small - its the most suitable model.\n",
    "This test is normally distributied where the difference between the means D is:\n",
    "D ~ N $(\\mu_A - \\mu_B, \\frac{\\sigma_A^{2}}{n_1}  + \\frac{\\sigma_B^{2}}{n_2}) $\n",
    "\n",
    "Since the size of the samples are sufficiently large, we an assume normal distribution by the Central Limit Theorem. The central limit theorem indicates that if the sample size is sufficiently large, the means of samples obtained using a random sampling with replacement are distributed normally with the mean, $µ$, and the variance, $σ^{2}_{n}$, regardless of the population distribution.$^{[3]}$"
   ]
  },
  {
   "cell_type": "markdown",
   "id": "8390ccbc",
   "metadata": {},
   "source": [
    "Bootstrapping is a vital ingredient to obtaining a valid nonbiased representation of the population. It is a statistical process for generating multiple simulated samples from a single dataset. For a variety of sample statistics, this procedure allows you to calculate standard errors, generate confidence intervals, and do hypothesis testing.\n"
   ]
  },
  {
   "cell_type": "code",
   "execution_count": 124,
   "id": "531be91a",
   "metadata": {},
   "outputs": [],
   "source": [
    "# bootstraps to remove fasle conculsions and a method to reduce inconsitencies in results\n",
    "def bootstraps(df,activity,numsamples,feature):\n",
    "    samples=[]\n",
    "    \n",
    "    for i in range(numsamples):\n",
    "        samples.append(statistics.mean(np.random.choice(df[df[\"activityID\"] == activity]\n",
    "                                                        [feature],size=int((len(dev_df)*0.0001))))) #small sample used here 0.01% of the data \n",
    "        \n",
    "    avg = statistics.mean(samples)\n",
    "    stdavg = statistics.stdev(samples)\n",
    "    return avg, stdavg,numsamples"
   ]
  },
  {
   "cell_type": "markdown",
   "id": "9467c8e8",
   "metadata": {},
   "source": [
    "### Testing the hypothesis on the development set"
   ]
  },
  {
   "cell_type": "code",
   "execution_count": 125,
   "id": "e4827a7d",
   "metadata": {
    "scrolled": true
   },
   "outputs": [
    {
     "name": "stdout",
     "output_type": "stream",
     "text": [
      "29.73210725677831 0.12130961966969202 30\n"
     ]
    }
   ],
   "source": [
    "JRmean , JRstd, JRn = bootstraps(dev_df,24,30,\"handTemp\")\n",
    "print (JRmean,JRstd,JRn)"
   ]
  },
  {
   "cell_type": "markdown",
   "id": "90c27901",
   "metadata": {},
   "source": [
    "From the Jump rope bootstraps I have concluded that the average hand temperature from the 30 sample stake was $29.7^o$C with a standard deviation of $0.1896^o$C."
   ]
  },
  {
   "cell_type": "code",
   "execution_count": 126,
   "id": "e48d8c83",
   "metadata": {},
   "outputs": [
    {
     "name": "stdout",
     "output_type": "stream",
     "text": [
      "33.26110446570973 0.0862422890414171 30\n"
     ]
    }
   ],
   "source": [
    "Smean,Sstd,Sn = bootstraps(dev_df,2,30,\"handTemp\")\n",
    "print(Smean,Sstd,Sn)"
   ]
  },
  {
   "cell_type": "markdown",
   "id": "48261df9",
   "metadata": {},
   "source": [
    "From the Sitting bootraps, it is concluded that the average han temperature from these 30 samples was $33.271^o$C. The standard deviation for these samples is $0.0721^o$C."
   ]
  },
  {
   "cell_type": "code",
   "execution_count": 127,
   "id": "e46c26f2",
   "metadata": {},
   "outputs": [],
   "source": [
    "#method to quickly find the t score for conducted hypothesis test\n",
    "def hypothesis(mu1,mu2,std1,std2,n1,n2):\n",
    "    numerator= mu1 - mu2\n",
    "    denominator= np.power((std1/n1)+(std2/n2),0.5)\n",
    "    t= numerator/denominator\n",
    "    return t"
   ]
  },
  {
   "cell_type": "code",
   "execution_count": 128,
   "id": "8a831908",
   "metadata": {},
   "outputs": [
    {
     "name": "stdout",
     "output_type": "stream",
     "text": [
      "Our t value from this statistic: 42.4276\n",
      "This has a corresponding p value 1.1491355568438389e-45\n"
     ]
    }
   ],
   "source": [
    "statistic = hypothesis(Smean,JRmean,Sstd,JRstd,JRn,Sn)\n",
    "p_val = stats.t.sf(abs(statistic), JRn + Sn -2)\n",
    "print(\"Our t value from this statistic: {:.4f}\".format(statistic))\n",
    "print(\"This has a corresponding p value {}\".format(p_val))\n"
   ]
  },
  {
   "cell_type": "markdown",
   "id": "c6563e7c",
   "metadata": {},
   "source": [
    "Clearly, this indicates that the p-value is much much smaller than the given 95% confidence interval( even valid for 99% confidence interval). Therefore It is sufficient evidence to reject our null hypothesis $H_0$. Therefore we conclude that there is sufficient evidence to reject the null hypothesis and thus when participating in activities that are less demanding (lower BPM) the subject will have hotter hands. From here we are able to start roughly estimating the intensity of activity by just looking at the heart rate."
   ]
  },
  {
   "cell_type": "code",
   "execution_count": 129,
   "id": "076fee09",
   "metadata": {},
   "outputs": [
    {
     "data": {
      "text/plain": [
       "sys.float_info(max=1.7976931348623157e+308, max_exp=1024, max_10_exp=308, min=2.2250738585072014e-308, min_exp=-1021, min_10_exp=-307, dig=15, mant_dig=53, epsilon=2.220446049250313e-16, radix=2, rounds=1)"
      ]
     },
     "execution_count": 129,
     "metadata": {},
     "output_type": "execute_result"
    }
   ],
   "source": [
    "# when some tests were conducted I had a value of 0 for the p value. This is because my p values was\n",
    "# much less than 2.225^-308\n",
    "import sys\n",
    "sys.float_info"
   ]
  },
  {
   "cell_type": "markdown",
   "id": "c0a02967",
   "metadata": {},
   "source": [
    "I will test activity 2 again against 4 (walking) which has a lower average heart rate whilst still being higher than the sitting activity. This would further strengthen my hypothesis and dictate that an increase in heart rate has a negative correlation with hand temperature."
   ]
  },
  {
   "cell_type": "markdown",
   "id": "b389f10d",
   "metadata": {},
   "source": [
    "From Figure 16 below: The respective heart rates in the order of mean I will select the following for testing:  Lying, Sitting,  Walking, Nordic Walking, Cycling, Running, Rope Jumping.  I will perform a statistical test on all of these values and hope to find that my alternative hypothesis is accepted for all activities that have a higher mean heart rate than sitting and thus hopefully only Lying will result in the null hypothesis being accepted."
   ]
  },
  {
   "cell_type": "code",
   "execution_count": 130,
   "id": "db3cf3aa",
   "metadata": {},
   "outputs": [],
   "source": [
    "OrderedHeartRate= [1,2,3,17,16,4,7,6,13,12,5,24]\n",
    "activity = []\n",
    "statistic= []\n",
    "for i in range(len(OrderedHeartRate)): #iteration over all the heart rates\n",
    "    activity.append(OrderedHeartRate[i])\n",
    "    tempmean , tempstd, tempn = bootstraps(dev_df,OrderedHeartRate[i],30,\"handTemp\")\n",
    "    statistic.append(hypothesis(Smean,tempmean ,Sstd,tempstd ,tempn ,Sn)) #appending to be able to plot after"
   ]
  },
  {
   "cell_type": "code",
   "execution_count": 131,
   "id": "35c3a88f",
   "metadata": {},
   "outputs": [],
   "source": [
    "p_values= []\n",
    "for i in range(len(statistic)):\n",
    "    p_values.append(stats.t.sf(abs(statistic[i]), 60 -2))"
   ]
  },
  {
   "cell_type": "code",
   "execution_count": 132,
   "id": "204e6835",
   "metadata": {},
   "outputs": [],
   "source": [
    "df = pd.DataFrame()\n",
    "df[\"Activity\"] = activity\n",
    "df[\"Statistic\"] = statistic\n",
    "df[\"P Value\"] = p_values"
   ]
  },
  {
   "cell_type": "code",
   "execution_count": 133,
   "id": "764fdfa4",
   "metadata": {
    "scrolled": true
   },
   "outputs": [
    {
     "data": {
      "text/html": [
       "<div>\n",
       "<style scoped>\n",
       "    .dataframe tbody tr th:only-of-type {\n",
       "        vertical-align: middle;\n",
       "    }\n",
       "\n",
       "    .dataframe tbody tr th {\n",
       "        vertical-align: top;\n",
       "    }\n",
       "\n",
       "    .dataframe thead th {\n",
       "        text-align: right;\n",
       "    }\n",
       "</style>\n",
       "<table border=\"1\" class=\"dataframe\">\n",
       "  <thead>\n",
       "    <tr style=\"text-align: right;\">\n",
       "      <th></th>\n",
       "      <th>Activity</th>\n",
       "      <th>Statistic</th>\n",
       "      <th>P Value</th>\n",
       "    </tr>\n",
       "  </thead>\n",
       "  <tbody>\n",
       "    <tr>\n",
       "      <th>0</th>\n",
       "      <td>1</td>\n",
       "      <td>6.876940</td>\n",
       "      <td>2.358084e-09</td>\n",
       "    </tr>\n",
       "    <tr>\n",
       "      <th>1</th>\n",
       "      <td>2</td>\n",
       "      <td>0.049639</td>\n",
       "      <td>4.802904e-01</td>\n",
       "    </tr>\n",
       "    <tr>\n",
       "      <th>2</th>\n",
       "      <td>3</td>\n",
       "      <td>-5.663528</td>\n",
       "      <td>2.427169e-07</td>\n",
       "    </tr>\n",
       "    <tr>\n",
       "      <th>3</th>\n",
       "      <td>17</td>\n",
       "      <td>-10.875642</td>\n",
       "      <td>6.310182e-16</td>\n",
       "    </tr>\n",
       "    <tr>\n",
       "      <th>4</th>\n",
       "      <td>16</td>\n",
       "      <td>-13.762439</td>\n",
       "      <td>3.189498e-20</td>\n",
       "    </tr>\n",
       "    <tr>\n",
       "      <th>5</th>\n",
       "      <td>4</td>\n",
       "      <td>12.771459</td>\n",
       "      <td>8.445188e-19</td>\n",
       "    </tr>\n",
       "    <tr>\n",
       "      <th>6</th>\n",
       "      <td>7</td>\n",
       "      <td>21.963131</td>\n",
       "      <td>4.288117e-30</td>\n",
       "    </tr>\n",
       "    <tr>\n",
       "      <th>7</th>\n",
       "      <td>6</td>\n",
       "      <td>27.372364</td>\n",
       "      <td>3.708446e-35</td>\n",
       "    </tr>\n",
       "    <tr>\n",
       "      <th>8</th>\n",
       "      <td>13</td>\n",
       "      <td>-0.866843</td>\n",
       "      <td>1.947999e-01</td>\n",
       "    </tr>\n",
       "    <tr>\n",
       "      <th>9</th>\n",
       "      <td>12</td>\n",
       "      <td>-3.852466</td>\n",
       "      <td>1.473634e-04</td>\n",
       "    </tr>\n",
       "    <tr>\n",
       "      <th>10</th>\n",
       "      <td>5</td>\n",
       "      <td>28.147844</td>\n",
       "      <td>8.202367e-36</td>\n",
       "    </tr>\n",
       "    <tr>\n",
       "      <th>11</th>\n",
       "      <td>24</td>\n",
       "      <td>39.871745</td>\n",
       "      <td>3.752833e-44</td>\n",
       "    </tr>\n",
       "  </tbody>\n",
       "</table>\n",
       "</div>"
      ],
      "text/plain": [
       "    Activity  Statistic       P Value\n",
       "0          1   6.876940  2.358084e-09\n",
       "1          2   0.049639  4.802904e-01\n",
       "2          3  -5.663528  2.427169e-07\n",
       "3         17 -10.875642  6.310182e-16\n",
       "4         16 -13.762439  3.189498e-20\n",
       "5          4  12.771459  8.445188e-19\n",
       "6          7  21.963131  4.288117e-30\n",
       "7          6  27.372364  3.708446e-35\n",
       "8         13  -0.866843  1.947999e-01\n",
       "9         12  -3.852466  1.473634e-04\n",
       "10         5  28.147844  8.202367e-36\n",
       "11        24  39.871745  3.752833e-44"
      ]
     },
     "execution_count": 133,
     "metadata": {},
     "output_type": "execute_result"
    }
   ],
   "source": [
    "df"
   ]
  },
  {
   "cell_type": "code",
   "execution_count": 134,
   "id": "47498ba2",
   "metadata": {
    "scrolled": false
   },
   "outputs": [
    {
     "data": {
      "image/png": "[encoded data removed]",
      "text/plain": [
       "<Figure size 864x576 with 1 Axes>"
      ]
     },
     "metadata": {
      "needs_background": "light"
     },
     "output_type": "display_data"
    }
   ],
   "source": [
    "plt.figure(figsize=(12,8))\n",
    "plt.scatter(list(map(str,activity)), p_values, s=50) # need to be mapped otherwise the data did not visualise\n",
    "plt.xlabel(\"Activity ID\")\n",
    "plt.ylabel(\"P Value\")\n",
    "plt.axhline(y=0.01, color='r', linestyle='--')\n",
    "plt.title(\"(Figure16) A plot of all activity P Values for hand temperature\")\n",
    "plt.legend([\"Significance Level\",\"P Values\"])\n",
    "plt.show()"
   ]
  },
  {
   "cell_type": "markdown",
   "id": "eacb917b",
   "metadata": {},
   "source": [
    "Below I remove the obvious activities that cause the data to have misinformation. Figure 6 isn't scaled properly and there are two activities walking and ironing that we wish to remove. This is because clearly, the mean of hand temperature of walking compared to walking will not be statistically significant to reject the null hypothesis. Additionally, it makes sense that ironing would have an effect on the temperature of the hand and thus this activity causes injunctions to my hypothesis."
   ]
  },
  {
   "cell_type": "code",
   "execution_count": 135,
   "id": "e2cdf30b",
   "metadata": {
    "scrolled": true
   },
   "outputs": [],
   "source": [
    "del activity[1] #deleting activities thta caused data to read incorrectly ^ explanation above as to why thus was done\n",
    "del activity[-4]\n",
    "del p_values[1]\n",
    "del p_values[-4]"
   ]
  },
  {
   "cell_type": "code",
   "execution_count": 136,
   "id": "becb0f03",
   "metadata": {
    "scrolled": false
   },
   "outputs": [
    {
     "data": {
      "image/png": "[encoded data removed]",
      "text/plain": [
       "<Figure size 864x576 with 1 Axes>"
      ]
     },
     "metadata": {
      "needs_background": "light"
     },
     "output_type": "display_data"
    }
   ],
   "source": [
    "plt.figure(figsize=(12,8))\n",
    "plt.scatter(list(map(str,activity)), p_values, s=50)\n",
    "plt.xlabel(\"Activity ID\")\n",
    "plt.ylabel(\"P Value\")\n",
    "plt.axhline(y=0.01, color='r', linestyle='--')\n",
    "plt.title(\"(Figure17) A plot of all activity P Values for hand temperature\")\n",
    "plt.legend([\"Significance Level\",\"P Values\"])\n",
    "plt.show()"
   ]
  },
  {
   "cell_type": "markdown",
   "id": "378b1d09",
   "metadata": {},
   "source": [
    "It is now seen that every activity had sufficient evidence to reject the null hypothesis. This is contrary to my internal hypothesis that activity 1 should accept the null hypothesis. To explore this below I will perform another statistical hypothesis test to determine if the mean heart rate of activity 1 was significantly lower than activity 2. If this"
   ]
  },
  {
   "cell_type": "markdown",
   "id": "ddc8250f",
   "metadata": {},
   "source": [
    "### Hypothesis 2)"
   ]
  },
  {
   "cell_type": "markdown",
   "id": "60167874",
   "metadata": {},
   "source": [
    "**If activity 1 rejected the previous null hypothesis then the mean heart rate of activity 1 (laying) is higher than the mean heart rate of activity 2 (sitting).**\n",
    "\n",
    "To make sure that activities with higher heart rate produce less hand temperature, I need to ensure that the average heart rate for activity 1 is larger than that of activity 2.\n",
    "\n",
    "\n",
    "$\\mu_A$ = Mean heart rate for activity 1(laying)\n",
    "$\\mu_B$ = Mean heart rate for activity 2(sitting)\n",
    "\n",
    "$$ Null: H_0 : \\mu_A = \\mu_B$$\n",
    "$$ Alternative: H_1 : \\mu_A > \\mu_B$$\n",
    "\n",
    "We are going to perform a one tailed 99% confidence test which gives our $\\alpha = 0.01$\n"
   ]
  },
  {
   "cell_type": "code",
   "execution_count": 54,
   "id": "e073270e",
   "metadata": {},
   "outputs": [
    {
     "name": "stdout",
     "output_type": "stream",
     "text": [
      "75.7265710955711 0.5866143572528814 30\n"
     ]
    }
   ],
   "source": [
    "LayingHRmean , LayingHRstd, LayingHRn = bootstraps(dev_df,1,30,\"heartrate\")\n",
    "print (LayingHRmean , LayingHRstd, LayingHRn)"
   ]
  },
  {
   "cell_type": "code",
   "execution_count": 55,
   "id": "8032e990",
   "metadata": {},
   "outputs": [
    {
     "name": "stdout",
     "output_type": "stream",
     "text": [
      "80.0010894535329 0.451252695232282 30\n"
     ]
    }
   ],
   "source": [
    "SittingHRmean , SittingHRstd, SittingHRn = bootstraps(dev_df,2,30,\"heartrate\")\n",
    "print (SittingHRmean , SittingHRstd, SittingHRn)"
   ]
  },
  {
   "cell_type": "code",
   "execution_count": 56,
   "id": "fe77477f",
   "metadata": {},
   "outputs": [
    {
     "name": "stdout",
     "output_type": "stream",
     "text": [
      "Our t value from this statistic: -22.9814\n",
      "This has a corresponding p value 4.040215710735038e-31\n"
     ]
    }
   ],
   "source": [
    "statistic = hypothesis(LayingHRmean,SittingHRmean,LayingHRstd,SittingHRstd,LayingHRn,SittingHRn)\n",
    "p_val = stats.t.sf(abs(statistic), LayingHRn + SittingHRn -2)\n",
    "print(\"Our t value from this statistic: {:.4f}\".format(statistic))\n",
    "print(\"This has a corresponding p value {}\".format(p_val))\n"
   ]
  },
  {
   "cell_type": "markdown",
   "id": "75adbe61",
   "metadata": {},
   "source": [
    "Here we see that the p-value for this test is $1.37^{-26}$ which is much lower than the threshold of $\\alpha$. This indicates that the mean heart rate for activity 1 (laying) is not statistically equal to or lower than that of sitting. This strengthens my previous hypothesis and concludes why the activity of laying did not have a higher hand temperature. A real-life explanation for this could be due to when the subjects are laying down there is no gravity bringing blood to the hands and thus through poor circulation, the individuals did not have warmer hands for the \"easier\" activity."
   ]
  },
  {
   "cell_type": "markdown",
   "id": "da594978",
   "metadata": {},
   "source": [
    "## Section 4 : Classification\n"
   ]
  },
  {
   "cell_type": "code",
   "execution_count": 57,
   "id": "65c04f10",
   "metadata": {},
   "outputs": [],
   "source": [
    "data = pamap2_df.drop([\"activityID\",\"timestamp\",\"ActivityDifficulty\"],axis=1)\n",
    "#target = pamap2_df[\"activityID\"]\n",
    "target = pamap2_df[\"ActivityDifficulty\"]"
   ]
  },
  {
   "cell_type": "code",
   "execution_count": 58,
   "id": "f6d65053",
   "metadata": {},
   "outputs": [],
   "source": [
    "#seting up the split of the data\n",
    "train_data,test_data,train_target,test_target = cross_validation.train_test_split(data,target,test_size=0.4,train_size=0.6)"
   ]
  },
  {
   "cell_type": "code",
   "execution_count": 59,
   "id": "0a2fc48d",
   "metadata": {},
   "outputs": [],
   "source": [
    "def find_metrics(y_true,y_est): #easyily find metrics using a function to speed up my work\n",
    "    \n",
    "    accuracy = accuracy_score(y_true,y_est)\n",
    "    error = 1- accuracy\n",
    "    precision = precision_score(y_true,y_est,average = \"macro\",zero_division= 1).mean()\n",
    "    recall = recall_score(y_true,y_est,average = \"macro\",zero_division =1 ).mean()\n",
    "    f1 = f1_score(y_true,y_est,average=\"macro\",zero_division= 1).mean()\n",
    "    print(\"Accuracy = {:.4f} , Error = {:.4f} , Precison = {:.4f} , Recall = {:.4f} , F1-score =  {:.4f}\".format(accuracy,error,precision,recall,f1))"
   ]
  },
  {
   "cell_type": "markdown",
   "id": "12cdb9e9",
   "metadata": {},
   "source": [
    "### Logistic Regression"
   ]
  },
  {
   "cell_type": "markdown",
   "id": "468bc161",
   "metadata": {},
   "source": [
    "I intend to firstly use logistic regression to set estimates on my data. This is an easy-to-implement model and is also very efficient to train. Logistic Regression is used when the target variable is categorical which it is in this case (\"Light\", \"Medium\", \"Vigorous\"). Since we have a huge amount of data this implies that there will be no overfitting and make it a great tool to use. Additionally there is no assumptions of the distribution and thus is very unbiased. Here the data is being fit to the sigmoid function via stochastic gradient descent."
   ]
  },
  {
   "cell_type": "code",
   "execution_count": 90,
   "id": "44e4cca9",
   "metadata": {
    "scrolled": true
   },
   "outputs": [],
   "source": [
    "LogisticReg= LogisticRegression(max_iter=1000) \n",
    "#LogisticReg.fit(train_data,train_target)\n",
    "#LogicPrediction = LogisticReg.predict(test_data)\n",
    "#find_metrics(test_target,LogicPrediction)"
   ]
  },
  {
   "cell_type": "markdown",
   "id": "27ec380f",
   "metadata": {},
   "source": [
    "#### The following codes will all take very long to run. I have recorded their results and spoke about them in the drop down cells."
   ]
  },
  {
   "cell_type": "markdown",
   "id": "1fccfb62",
   "metadata": {},
   "source": [
    "#### Training the model using all calculates mean values"
   ]
  },
  {
   "cell_type": "code",
   "execution_count": 61,
   "id": "34af08dd",
   "metadata": {
    "scrolled": true
   },
   "outputs": [
    {
     "name": "stderr",
     "output_type": "stream",
     "text": [
      "C:\\Users\\the-e\\anaconda3\\lib\\site-packages\\sklearn\\linear_model\\_logistic.py:763: ConvergenceWarning: lbfgs failed to converge (status=1):\n",
      "STOP: TOTAL NO. of ITERATIONS REACHED LIMIT.\n",
      "\n",
      "Increase the number of iterations (max_iter) or scale the data as shown in:\n",
      "    https://scikit-learn.org/stable/modules/preprocessing.html\n",
      "Please also refer to the documentation for alternative solver options:\n",
      "    https://scikit-learn.org/stable/modules/linear_model.html#logistic-regression\n",
      "  n_iter_i = _check_optimize_result(\n"
     ]
    }
   ],
   "source": [
    "features_used = [ \"handmean_acc16\", \"chestmean_acc16\", \"anklemean_acc16\",\n",
    "                \"handmean_gyro\", \"chestmean_gyro\", \"anklemean_gyro\",\n",
    "                \"handmean_temp\", \"chestmean_temp\", \"anklemean_temp\"] #features we are training with\n",
    "col_label= \"ActivityDifficulty\" #target variable\n",
    "\n",
    "train_data= np.array(dev_df.loc[:,features_used])\n",
    "train_labels= np.array(dev_df.loc[:,col_label])\n",
    "LogisticReg.fit(train_data,train_labels)\n",
    "\n",
    "test_data= np.array(test_df.loc[:,features_used]) #isolation of features above\n",
    "test_labels= np.array(test_df.loc[:,col_label]) #target variable\n",
    "\n",
    "predict_labels= LogisticReg.predict(test_data)\n"
   ]
  },
  {
   "cell_type": "code",
   "execution_count": 62,
   "id": "a6b91d30",
   "metadata": {},
   "outputs": [
    {
     "name": "stdout",
     "output_type": "stream",
     "text": [
      "Accuracy = 0.7250 , Error = 0.2750 , Precison = 0.7336 , Recall = 0.5926 , F1-score =  0.6069\n"
     ]
    }
   ],
   "source": [
    "find_metrics(test_labels,predict_labels)"
   ]
  },
  {
   "cell_type": "code",
   "execution_count": 63,
   "id": "6b6e85d3",
   "metadata": {},
   "outputs": [
    {
     "name": "stdout",
     "output_type": "stream",
     "text": [
      "Accuracy = 0.7250 , Error = 0.2750 , Precison = 0.7336 , Recall = 0.5926 , F1-score =  0.6069\n"
     ]
    }
   ],
   "source": [
    "logic1_df = pd.DataFrame(find_metrics(test_labels,predict_labels))\n",
    "logic1_df.to_csv(\"Logic1.csv\", index= True)\n",
    "Logic1 = pd.read_csv(\"Logic1.csv\",index_col = 0)"
   ]
  },
  {
   "cell_type": "markdown",
   "id": "2685200f",
   "metadata": {},
   "source": [
    "Through Logistic Regression where the data was trained on only using the mean of the hand chest and ankle, 3-D Accelerations at scale 16g, 3-D gyroscopic, and temperature features from the IMUs. Logistic Regression had an accuracy of 72.5% of correct prediction which MET difficulty category the data resided in, this implies that the classifier will return more relevant results than the irrelevant ones. With a precision score of 73%, Recall 59%, and F1- 61%. The F1-score would be higher if the Recall was improved."
   ]
  },
  {
   "cell_type": "markdown",
   "id": "7027f373",
   "metadata": {},
   "source": [
    "#### Training the model using everything"
   ]
  },
  {
   "cell_type": "code",
   "execution_count": 64,
   "id": "8b3cc048",
   "metadata": {},
   "outputs": [
    {
     "name": "stderr",
     "output_type": "stream",
     "text": [
      "C:\\Users\\the-e\\anaconda3\\lib\\site-packages\\sklearn\\linear_model\\_logistic.py:763: ConvergenceWarning: lbfgs failed to converge (status=1):\n",
      "STOP: TOTAL NO. of ITERATIONS REACHED LIMIT.\n",
      "\n",
      "Increase the number of iterations (max_iter) or scale the data as shown in:\n",
      "    https://scikit-learn.org/stable/modules/preprocessing.html\n",
      "Please also refer to the documentation for alternative solver options:\n",
      "    https://scikit-learn.org/stable/modules/linear_model.html#logistic-regression\n",
      "  n_iter_i = _check_optimize_result(\n"
     ]
    }
   ],
   "source": [
    "features_used = [ \"handmean_acc16\", \"chestmean_acc16\", \"anklemean_acc16\",\n",
    "                \"handmean_gyro\", \"chestmean_gyro\", \"anklemean_gyro\",\n",
    "                \"handmean_temp\", \"chestmean_temp\", \"anklemean_temp\",\n",
    "                 'heartrate', 'handTemp', 'handAc16_1',\n",
    "       'handAc16_2', 'handAc16_3', 'handGyro1', 'handGyro2', 'handGyro3',\n",
    "       'handMag1', 'handMag2', 'handMag3', 'handOri4', 'chestTemp',\n",
    "       'chestAc16_1', 'chestAc16_2', 'chestAc16_3', 'chestGyro1', 'chestGyro2',\n",
    "       'chestGyro3', 'chestMag1', 'chestMag2', 'chestMag3', 'ankleTemp',\n",
    "       'ankleAc16_1', 'ankleAc16_2', 'ankleAc16_3', 'ankleGyro1', 'ankleGyro2',\n",
    "       'ankleGyro3', 'ankleMag1', 'ankleMag2', 'ankleMag3', ]\n",
    "col_label= \"ActivityDifficulty\"\n",
    "\n",
    "train_data= np.array(dev_df.loc[:,features_used])\n",
    "train_labels= np.array(dev_df.loc[:,col_label])\n",
    "LogisticReg.fit(train_data,train_labels)\n",
    "\n",
    "test_data= np.array(test_df.loc[:,features_used])\n",
    "test_labels= np.array(test_df.loc[:,col_label])\n",
    "\n",
    "predict_labels= LogisticReg.predict(test_data)"
   ]
  },
  {
   "cell_type": "code",
   "execution_count": 65,
   "id": "c61613ba",
   "metadata": {
    "scrolled": true
   },
   "outputs": [
    {
     "name": "stdout",
     "output_type": "stream",
     "text": [
      "Accuracy = 0.8773 , Error = 0.1227 , Precison = 0.8722 , Recall = 0.8203 , F1-score =  0.8412\n"
     ]
    }
   ],
   "source": [
    "find_metrics(test_labels,predict_labels)"
   ]
  },
  {
   "cell_type": "markdown",
   "id": "7f8a1253",
   "metadata": {},
   "source": [
    "This Logistic Regression model is much more efficient. This is due to the fact that there are more features that train the model and more data that is available to compare. Here the accuracy was found to be 88%, Precision 87%, Recall 82%, and F1-score 84%. These are very impressive numbers and would conclude that this model is very good at effectively classifying tasks into the three difficulty levels. However, this takes a long time to process and also results in overfitting. Below I have looked at other methods to classify the activities which take fractions of the time and also require much fewer measurements to maintain a decent amount of efficiency."
   ]
  },
  {
   "cell_type": "markdown",
   "id": "96f91f2e",
   "metadata": {},
   "source": [
    "#### Training the model using only Acceleration Data (16g)"
   ]
  },
  {
   "cell_type": "code",
   "execution_count": 66,
   "id": "99672804",
   "metadata": {},
   "outputs": [],
   "source": [
    "features_used = [ \"handmean_acc16\", \"chestmean_acc16\", \"anklemean_acc16\",\n",
    "       'handAc16_2', 'handAc16_3','chestAc16_1', 'chestAc16_2', 'chestAc16_3',\n",
    "       'ankleAc16_1', 'ankleAc16_2', 'ankleAc16_3']\n",
    "col_label= \"ActivityDifficulty\"\n",
    "\n",
    "train_data= np.array(dev_df.loc[:,features_used])\n",
    "train_labels= np.array(dev_df.loc[:,col_label])\n",
    "LogisticReg.fit(train_data,train_labels)\n",
    "\n",
    "test_data= np.array(test_df.loc[:,features_used])\n",
    "test_labels= np.array(test_df.loc[:,col_label])\n",
    "\n",
    "predict_labels= LogisticReg.predict(test_data)"
   ]
  },
  {
   "cell_type": "code",
   "execution_count": 67,
   "id": "9a8f4676",
   "metadata": {
    "scrolled": true
   },
   "outputs": [
    {
     "name": "stdout",
     "output_type": "stream",
     "text": [
      "Accuracy = 0.6588 , Error = 0.3412 , Precison = 0.6667 , Recall = 0.5152 , F1-score =  0.5102\n"
     ]
    }
   ],
   "source": [
    "find_metrics(test_labels,predict_labels)"
   ]
  },
  {
   "cell_type": "markdown",
   "id": "a03bb9ce",
   "metadata": {},
   "source": [
    "#### Training the model using only Gyroscope Data "
   ]
  },
  {
   "cell_type": "code",
   "execution_count": 69,
   "id": "d54f1cd1",
   "metadata": {},
   "outputs": [],
   "source": [
    "features_used = [ \"handmean_gyro\", \"chestmean_gyro\", \"anklemean_gyro\",\n",
    "                'handGyro1', 'handGyro2', 'handGyro3','chestGyro1', \n",
    "                 'chestGyro2','chestGyro3','ankleGyro1', 'ankleGyro2',\n",
    "       'ankleGyro3']\n",
    "\n",
    "col_label= \"ActivityDifficulty\"\n",
    "\n",
    "train_data= np.array(dev_df.loc[:,features_used])\n",
    "train_labels= np.array(dev_df.loc[:,col_label])\n",
    "LogisticReg.fit(train_data,train_labels)\n",
    "\n",
    "test_data= np.array(test_df.loc[:,features_used])\n",
    "test_labels= np.array(test_df.loc[:,col_label])\n",
    "\n",
    "predict_labels= LogisticReg.predict(test_data)"
   ]
  },
  {
   "cell_type": "code",
   "execution_count": 70,
   "id": "5bf4fbda",
   "metadata": {},
   "outputs": [
    {
     "name": "stdout",
     "output_type": "stream",
     "text": [
      "Accuracy = 0.5680 , Error = 0.4320 , Precison = 0.6987 , Recall = 0.4317 , F1-score =  0.3943\n"
     ]
    }
   ],
   "source": [
    "find_metrics(test_labels,predict_labels)"
   ]
  },
  {
   "cell_type": "markdown",
   "id": "f7525cd1",
   "metadata": {},
   "source": [
    "#### Training the model using only Temp Data "
   ]
  },
  {
   "cell_type": "code",
   "execution_count": 96,
   "id": "5a5cf2ae",
   "metadata": {},
   "outputs": [],
   "source": [
    "features_used = [\"heartrate\", \"handmean_temp\", \"chestmean_temp\", \"anklemean_temp\",\n",
    "                'handTemp','chestTemp','ankleTemp']\n",
    "\n",
    "col_label= \"ActivityDifficulty\"\n",
    "\n",
    "train_data= np.array(dev_df.loc[:,features_used])\n",
    "train_labels= np.array(dev_df.loc[:,col_label])\n",
    "LogisticReg.fit(train_data,train_labels)\n",
    "\n",
    "test_data= np.array(test_df.loc[:,features_used])\n",
    "test_labels= np.array(test_df.loc[:,col_label])\n",
    "\n",
    "predict_labels= LogisticReg.predict(test_data)"
   ]
  },
  {
   "cell_type": "code",
   "execution_count": 162,
   "id": "9f90e258",
   "metadata": {
    "scrolled": true
   },
   "outputs": [
    {
     "name": "stdout",
     "output_type": "stream",
     "text": [
      "Accuracy = 0.8475 , Error = 0.1525 , Precison = 0.8502 , Recall = 0.7742 , F1-score =  0.8010\n"
     ]
    }
   ],
   "source": [
    "find_metrics(test_labels,predict_labels)"
   ]
  },
  {
   "cell_type": "markdown",
   "id": "48d3f6ec",
   "metadata": {},
   "source": [
    "It is clear to see that when the classifier has every bit of information it performs tests the most effectively. However, this process is very time-consuming and it is of interest to find a model which performs very well with the most sparse amount of measurements required. From the previous sections- I am interested in temperature data as I noticed that this had an effect on the heart rate with a strong correlation. When the Logistic Regression classifier was trained using only this data, the metrics returned were substantial and had high rates for every score. This fills me with confidence as it implies that temperature alone is a great tool to analyse the type of activity performed. I aditionally looked at over types of variables to determine the activity level specifically: acceleration data and gyroscopic data. These were subpar indicators of the activity."
   ]
  },
  {
   "cell_type": "markdown",
   "id": "5760c4c0",
   "metadata": {},
   "source": [
    "### Optimising Logistic Regression"
   ]
  },
  {
   "cell_type": "code",
   "execution_count": 86,
   "id": "54d92594",
   "metadata": {},
   "outputs": [
    {
     "name": "stdout",
     "output_type": "stream",
     "text": [
      "Best Hyperparameters : {'C': 1000.0}\n"
     ]
    }
   ],
   "source": [
    "grid ={\"C\":np.logspace(-3,3,7)}#\"class_weight\":[\"balanced\",\"dict\",\"None\"],\n",
    "       #'solver':['newton-cg', 'lbfgs', 'liblinear','sag','saga']}\n",
    "logreg_cv=GridSearchCV(LogisticReg,grid,cv=4) #cv = k where k is the value for the k-folds.\n",
    "logreg_cv.fit(train_data,train_labels)\n",
    "print(\"Best Hyperparameters : {}\".format(logreg_cv.best_params_))"
   ]
  },
  {
   "cell_type": "code",
   "execution_count": 93,
   "id": "85b3660e",
   "metadata": {},
   "outputs": [
    {
     "name": "stderr",
     "output_type": "stream",
     "text": [
      "C:\\Users\\the-e\\anaconda3\\lib\\site-packages\\sklearn\\linear_model\\_logistic.py:763: ConvergenceWarning: lbfgs failed to converge (status=1):\n",
      "STOP: TOTAL NO. of ITERATIONS REACHED LIMIT.\n",
      "\n",
      "Increase the number of iterations (max_iter) or scale the data as shown in:\n",
      "    https://scikit-learn.org/stable/modules/preprocessing.html\n",
      "Please also refer to the documentation for alternative solver options:\n",
      "    https://scikit-learn.org/stable/modules/linear_model.html#logistic-regression\n",
      "  n_iter_i = _check_optimize_result(\n"
     ]
    }
   ],
   "source": [
    "features_used = [\"heartrate\", \"handmean_temp\", \"chestmean_temp\", \"anklemean_temp\",\n",
    "                'handTemp','chestTemp','ankleTemp']\n",
    "\n",
    "col_label= \"ActivityDifficulty\"\n",
    "\n",
    "LogisticReg= LogisticRegression(max_iter=1000,C= 1000) \n",
    "\n",
    "\n",
    "train_data= np.array(dev_df.loc[:,features_used])\n",
    "train_labels= np.array(dev_df.loc[:,col_label])\n",
    "LogisticReg.fit(train_data,train_labels)\n",
    "\n",
    "test_data= np.array(test_df.loc[:,features_used])\n",
    "test_labels= np.array(test_df.loc[:,col_label])\n",
    "\n",
    "predict_labels= LogisticReg.predict(test_data)"
   ]
  },
  {
   "cell_type": "code",
   "execution_count": 95,
   "id": "1008b2da",
   "metadata": {},
   "outputs": [
    {
     "name": "stdout",
     "output_type": "stream",
     "text": [
      "Accuracy = 0.8533 , Error = 0.1467 , Precison = 0.8477 , Recall = 0.7828 , F1-score =  0.8068\n"
     ]
    }
   ],
   "source": [
    "find_metrics(test_labels,predict_labels)"
   ]
  },
  {
   "cell_type": "markdown",
   "id": "c83004e2",
   "metadata": {},
   "source": [
    "Tuning several Hyperparameters resulted in the best values as stated above : \"C = 1000.0 (in logspace). The other hyperparameter tuning did not run sucessfully and caused my kernel to crash. I have commented these out- you can see which ones I have attempted to research into.\n",
    "\n",
    "The tuning of the Hyperparameters only slightly increased the metric scores for my logical regression classifier. With more time and more tuning the metric would increase however we need to think if its worth us doing so. (in practice -with alot of power - yes it would be)."
   ]
  },
  {
   "cell_type": "markdown",
   "id": "969ce8e2",
   "metadata": {},
   "source": [
    "### KMeans Cluster Classification"
   ]
  },
  {
   "cell_type": "markdown",
   "id": "0e51f921",
   "metadata": {},
   "source": [
    "Data here needs to be standarised to the data set, this adjusts all values so that they are roughtly on the same scale. Here using scikit-learn has made this task alot simpler. Scale can be used which is similar to LinearRgression as we wish to create an instance of this that will fit all of the data I have been provided. Scale standarises the features to the same scale. Through lectures we used PCA. This was implemened in this section to reduce the dimensions of the data. This increases interpetability whilst maintaining information."
   ]
  },
  {
   "cell_type": "code",
   "execution_count": 93,
   "id": "b6fc8494",
   "metadata": {},
   "outputs": [],
   "source": [
    "data = pamap2_df.drop([\"timestamp\",\"ActivityDifficulty\"],axis=1)\n",
    "#target = pamap2_df[\"activityID\"]\n",
    "target = pamap2_df[\"ActivityDifficulty\"]"
   ]
  },
  {
   "cell_type": "code",
   "execution_count": 94,
   "id": "f6739a01",
   "metadata": {},
   "outputs": [],
   "source": [
    "#seting up the split of the data\n",
    "train_data,test_data,train_target,test_target = cross_validation.train_test_split(data,target,test_size=0.4,train_size=0.6)"
   ]
  },
  {
   "cell_type": "code",
   "execution_count": 95,
   "id": "1391923e",
   "metadata": {
    "scrolled": false
   },
   "outputs": [],
   "source": [
    "x_train = train_data[[\"heartrate\",\"handmean_temp\", \"chestmean_temp\", \"anklemean_temp\",'handTemp','chestTemp','ankleTemp']]\n",
    "x_test = test_data[[\"heartrate\",\"handmean_temp\", \"chestmean_temp\", \"anklemean_temp\",'handTemp','chestTemp','ankleTemp']]"
   ]
  },
  {
   "cell_type": "code",
   "execution_count": 177,
   "id": "78dc06b6",
   "metadata": {},
   "outputs": [],
   "source": [
    "x_train_scaled = scaler.fit(x_train)"
   ]
  },
  {
   "cell_type": "code",
   "execution_count": 169,
   "id": "1c283b8e",
   "metadata": {},
   "outputs": [],
   "source": [
    "pca = PCA(n_components=3, random_state= 0)"
   ]
  },
  {
   "cell_type": "code",
   "execution_count": 170,
   "id": "c50048e7",
   "metadata": {},
   "outputs": [],
   "source": [
    "x_train_pca = (pca.fit_transform(x_train))"
   ]
  },
  {
   "cell_type": "code",
   "execution_count": 171,
   "id": "5358e526",
   "metadata": {},
   "outputs": [
    {
     "name": "stdout",
     "output_type": "stream",
     "text": [
      "[[ 31.52747187  -2.32533201   0.088412  ]\n",
      " [ -8.51853875  -4.08354474   0.46804255]\n",
      " [ -6.51624602  -3.04749176  -0.91181146]\n",
      " ...\n",
      " [ 52.79088296   5.29051912   2.8910523 ]\n",
      " [ 10.70632536   1.71946808   2.80968624]\n",
      " [-35.32166651   6.22892085  -1.27028229]]\n"
     ]
    }
   ],
   "source": [
    "print(x_train_pca)"
   ]
  },
  {
   "cell_type": "code",
   "execution_count": 172,
   "id": "a1a6a9f9",
   "metadata": {},
   "outputs": [],
   "source": [
    "x_test_pca = pca.fit_transform(x_test)"
   ]
  },
  {
   "cell_type": "code",
   "execution_count": 173,
   "id": "17322666",
   "metadata": {},
   "outputs": [],
   "source": [
    "model = cluster.KMeans(init = \"random\", n_clusters = 3,random_state=0)"
   ]
  },
  {
   "cell_type": "code",
   "execution_count": 174,
   "id": "45952069",
   "metadata": {},
   "outputs": [
    {
     "data": {
      "text/plain": [
       "KMeans(init='random', n_clusters=3, random_state=0)"
      ]
     },
     "execution_count": 174,
     "metadata": {},
     "output_type": "execute_result"
    }
   ],
   "source": [
    "model.fit(x_train_pca)"
   ]
  },
  {
   "cell_type": "code",
   "execution_count": 179,
   "id": "5c2144d3",
   "metadata": {},
   "outputs": [],
   "source": [
    "y_pred = model.predict(x_test_pca)"
   ]
  },
  {
   "cell_type": "code",
   "execution_count": 197,
   "id": "74e1543d",
   "metadata": {},
   "outputs": [
    {
     "data": {
      "text/plain": [
       "array([1, 1, 2, ..., 1, 1, 2])"
      ]
     },
     "execution_count": 197,
     "metadata": {},
     "output_type": "execute_result"
    }
   ],
   "source": [
    "y_pred"
   ]
  },
  {
   "cell_type": "code",
   "execution_count": 182,
   "id": "ad37784c",
   "metadata": {},
   "outputs": [
    {
     "name": "stdout",
     "output_type": "stream",
     "text": [
      "Silhouette Score =  0.5773064799664077\n"
     ]
    }
   ],
   "source": [
    "SC_3=silhouette_score(x_test,y_pred)\n",
    "print('Silhouette Score = ', SC_3)"
   ]
  },
  {
   "cell_type": "markdown",
   "id": "33bf966a",
   "metadata": {},
   "source": [
    "The silhouette score of 0.577 is a good metric score. Silhouette score ranges from -1 to 1. When the score is in the boundary [-1,0] this indicates that samples might have been assigned to the wrong cluster. Here 0.577 is a good score and since this classifier was trained using only temperatures and heart rate, this further indicates that temperature and heart rate a great tools to indicate physicaly activity level."
   ]
  },
  {
   "cell_type": "markdown",
   "id": "04fa83ea",
   "metadata": {},
   "source": [
    "For the adjusted rand score - we need the true labels to be able to find the metric value. Below I will look at which activity have been assigned to which cluster."
   ]
  },
  {
   "cell_type": "code",
   "execution_count": 201,
   "id": "268b3d0f",
   "metadata": {
    "scrolled": false
   },
   "outputs": [
    {
     "name": "stdout",
     "output_type": "stream",
     "text": [
      "2256543       Light Activity\n",
      "40103         Light Activity\n",
      "95094         Light Activity\n",
      "23929         Light Activity\n",
      "957776        Light Activity\n",
      "168277     Moderate Activity\n",
      "1233758       Light Activity\n",
      "1056220    Moderate Activity\n",
      "1192121       Light Activity\n",
      "1386896    Moderate Activity\n",
      "1187709    Vigorous Activity\n",
      "1075749    Moderate Activity\n",
      "12970         Light Activity\n",
      "815783     Moderate Activity\n",
      "1305285    Moderate Activity\n",
      "1483871       Light Activity\n",
      "434959     Moderate Activity\n",
      "2127477    Moderate Activity\n",
      "50939         Light Activity\n",
      "549794        Light Activity\n",
      "Name: ActivityDifficulty, dtype: object\n",
      "[1 1 2 1 1 2 1 2 2 2 0 2 1 2 1 1 2 2 1 1]\n"
     ]
    }
   ],
   "source": [
    "print(test_target[:20])\n",
    "print(y_pred[:20])"
   ]
  },
  {
   "cell_type": "code",
   "execution_count": 205,
   "id": "11cdf292",
   "metadata": {},
   "outputs": [
    {
     "name": "stdout",
     "output_type": "stream",
     "text": [
      "1187709    Vigorous Activity\n",
      "Name: ActivityDifficulty, dtype: object\n",
      "[0]\n"
     ]
    }
   ],
   "source": [
    "print(test_target[10:11])\n",
    "print(y_pred[10:11])"
   ]
  },
  {
   "cell_type": "markdown",
   "id": "6f220eee",
   "metadata": {},
   "source": [
    "We can see that light activities have been assigned to the cluster 1. with moderate activities to the cluster 2 and vigorous to cluster 0. From the first labels there was only one prediction of a cluster 0, which aligned to the only vigorous activity in the true labels."
   ]
  },
  {
   "cell_type": "code",
   "execution_count": 206,
   "id": "98b93f3a",
   "metadata": {},
   "outputs": [],
   "source": [
    "def difficultyclassify(difficulty):\n",
    "    if difficulty == \"Light Activity\":\n",
    "        return 1\n",
    "    if difficulty == \"Moderate Activity\":\n",
    "        return 2\n",
    "    if difficulty == \"Vigorous Activity\":\n",
    "        return 0"
   ]
  },
  {
   "cell_type": "code",
   "execution_count": 207,
   "id": "70f22efe",
   "metadata": {},
   "outputs": [],
   "source": [
    "test_target_mapped = test_target.apply(difficultyclassify)"
   ]
  },
  {
   "cell_type": "code",
   "execution_count": 209,
   "id": "3ff8c133",
   "metadata": {
    "scrolled": true
   },
   "outputs": [
    {
     "data": {
      "text/plain": [
       "2256543    1\n",
       "40103      1\n",
       "95094      1\n",
       "23929      1\n",
       "957776     1\n",
       "          ..\n",
       "1111246    2\n",
       "1461252    1\n",
       "1605303    2\n",
       "2405073    2\n",
       "801891     2\n",
       "Name: ActivityDifficulty, Length: 978965, dtype: int64"
      ]
     },
     "execution_count": 209,
     "metadata": {},
     "output_type": "execute_result"
    }
   ],
   "source": [
    "test_target_mapped"
   ]
  },
  {
   "cell_type": "code",
   "execution_count": 223,
   "id": "2f1c87ce",
   "metadata": {},
   "outputs": [
    {
     "name": "stdout",
     "output_type": "stream",
     "text": [
      "Adjusted Rand Score =  -20.756070911907592\n"
     ]
    },
    {
     "name": "stderr",
     "output_type": "stream",
     "text": [
      "C:\\Users\\the-e\\anaconda3\\lib\\site-packages\\sklearn\\metrics\\cluster\\_supervised.py:389: RuntimeWarning: overflow encountered in longlong_scalars\n",
      "  return 2. * (tp * tn - fn * fp) / ((tp + fn) * (fn + tn) +\n",
      "C:\\Users\\the-e\\anaconda3\\lib\\site-packages\\sklearn\\metrics\\cluster\\_supervised.py:390: RuntimeWarning: overflow encountered in longlong_scalars\n",
      "  (tp + fp) * (fp + tn))\n"
     ]
    }
   ],
   "source": [
    "aRS_3 = (adjusted_rand_score(test_target_mapped,y_pred)\n",
    "print(\"Adjusted Rand Score = \",aRS_3)"
   ]
  },
  {
   "cell_type": "code",
   "execution_count": 232,
   "id": "54980c22",
   "metadata": {},
   "outputs": [
    {
     "name": "stdout",
     "output_type": "stream",
     "text": [
      "Accuracy = 0.8012 , Error = 0.1988 , Precison = 0.7889 , Recall = 0.7490 , F1-score =  0.7644\n"
     ]
    }
   ],
   "source": [
    "find_metrics(test_target_mapped, y_pred)"
   ]
  },
  {
   "cell_type": "markdown",
   "id": "621754a5",
   "metadata": {},
   "source": [
    "With metrics of 80% accuracy, 79% precision ,75% recall and 76% F1-score I belive that this cluster has done well with classifiying activities. Granted that Adjusted Rand Score and Silhouette Score are the proper metrics to use here, since I was unable to perform Adjusted Rand Score due to not knowing the \"goldstandard\" lables for the clusters (However I have attempted to find these in the section). I have included standard accuracy etc metrics for peace of mind."
   ]
  },
  {
   "cell_type": "markdown",
   "id": "44e1f8a8",
   "metadata": {},
   "source": [
    "### Decision Tree"
   ]
  },
  {
   "cell_type": "markdown",
   "id": "233aa365",
   "metadata": {},
   "source": [
    "I had difficulty using the Kmeans and therefore I have included a Decision Tree classifier. This classifier is one of the best for non linear data sets like ours. These are specially used for categorical variable targets such as ours. It is perfect for classification tasks. This is why I have implemented the Decision Tree Method."
   ]
  },
  {
   "cell_type": "code",
   "execution_count": 47,
   "id": "120cb6fc",
   "metadata": {
    "scrolled": false
   },
   "outputs": [],
   "source": [
    "clf = DecisionTreeClassifier(max_depth=3,criterion=\"entropy\")\n",
    "clf.fit(train_data,train_target)\n",
    "predict_train = clf.predict(train_data)\n",
    "predict_probability_train =clf.predict_proba(train_data)[:,1]"
   ]
  },
  {
   "cell_type": "code",
   "execution_count": 48,
   "id": "38d88c5d",
   "metadata": {},
   "outputs": [],
   "source": [
    "test_estimate =clf.predict(test_data)\n",
    "probability_test_estimate = clf.predict_proba(test_data)[:,1]\n",
    "Decisiontree_df = pd.DataFrame({\"Test Target\":test_target,\n",
    "                               \"Estimate Test\":test_estimate,\n",
    "                               \"Test Estimation Probability\":probability_test_estimate})"
   ]
  },
  {
   "cell_type": "code",
   "execution_count": 49,
   "id": "952f544b",
   "metadata": {
    "scrolled": true
   },
   "outputs": [
    {
     "data": {
      "text/html": [
       "<div>\n",
       "<style scoped>\n",
       "    .dataframe tbody tr th:only-of-type {\n",
       "        vertical-align: middle;\n",
       "    }\n",
       "\n",
       "    .dataframe tbody tr th {\n",
       "        vertical-align: top;\n",
       "    }\n",
       "\n",
       "    .dataframe thead th {\n",
       "        text-align: right;\n",
       "    }\n",
       "</style>\n",
       "<table border=\"1\" class=\"dataframe\">\n",
       "  <thead>\n",
       "    <tr style=\"text-align: right;\">\n",
       "      <th></th>\n",
       "      <th>Test Target</th>\n",
       "      <th>Estimate Test</th>\n",
       "      <th>Test Estimation Probability</th>\n",
       "    </tr>\n",
       "  </thead>\n",
       "  <tbody>\n",
       "    <tr>\n",
       "      <th>2273030</th>\n",
       "      <td>Light Activity</td>\n",
       "      <td>Light Activity</td>\n",
       "      <td>0.046728</td>\n",
       "    </tr>\n",
       "    <tr>\n",
       "      <th>289437</th>\n",
       "      <td>Light Activity</td>\n",
       "      <td>Light Activity</td>\n",
       "      <td>0.012553</td>\n",
       "    </tr>\n",
       "    <tr>\n",
       "      <th>176711</th>\n",
       "      <td>Moderate Activity</td>\n",
       "      <td>Moderate Activity</td>\n",
       "      <td>0.626628</td>\n",
       "    </tr>\n",
       "    <tr>\n",
       "      <th>1101734</th>\n",
       "      <td>Moderate Activity</td>\n",
       "      <td>Moderate Activity</td>\n",
       "      <td>0.874708</td>\n",
       "    </tr>\n",
       "    <tr>\n",
       "      <th>886040</th>\n",
       "      <td>Moderate Activity</td>\n",
       "      <td>Moderate Activity</td>\n",
       "      <td>0.874708</td>\n",
       "    </tr>\n",
       "    <tr>\n",
       "      <th>...</th>\n",
       "      <td>...</td>\n",
       "      <td>...</td>\n",
       "      <td>...</td>\n",
       "    </tr>\n",
       "    <tr>\n",
       "      <th>220545</th>\n",
       "      <td>Vigorous Activity</td>\n",
       "      <td>Vigorous Activity</td>\n",
       "      <td>0.067427</td>\n",
       "    </tr>\n",
       "    <tr>\n",
       "      <th>596163</th>\n",
       "      <td>Light Activity</td>\n",
       "      <td>Light Activity</td>\n",
       "      <td>0.012553</td>\n",
       "    </tr>\n",
       "    <tr>\n",
       "      <th>2382337</th>\n",
       "      <td>Moderate Activity</td>\n",
       "      <td>Moderate Activity</td>\n",
       "      <td>0.649873</td>\n",
       "    </tr>\n",
       "    <tr>\n",
       "      <th>621263</th>\n",
       "      <td>Moderate Activity</td>\n",
       "      <td>Moderate Activity</td>\n",
       "      <td>0.649873</td>\n",
       "    </tr>\n",
       "    <tr>\n",
       "      <th>2316280</th>\n",
       "      <td>Light Activity</td>\n",
       "      <td>Light Activity</td>\n",
       "      <td>0.012553</td>\n",
       "    </tr>\n",
       "  </tbody>\n",
       "</table>\n",
       "<p>978965 rows × 3 columns</p>\n",
       "</div>"
      ],
      "text/plain": [
       "               Test Target      Estimate Test  Test Estimation Probability\n",
       "2273030     Light Activity     Light Activity                     0.046728\n",
       "289437      Light Activity     Light Activity                     0.012553\n",
       "176711   Moderate Activity  Moderate Activity                     0.626628\n",
       "1101734  Moderate Activity  Moderate Activity                     0.874708\n",
       "886040   Moderate Activity  Moderate Activity                     0.874708\n",
       "...                    ...                ...                          ...\n",
       "220545   Vigorous Activity  Vigorous Activity                     0.067427\n",
       "596163      Light Activity     Light Activity                     0.012553\n",
       "2382337  Moderate Activity  Moderate Activity                     0.649873\n",
       "621263   Moderate Activity  Moderate Activity                     0.649873\n",
       "2316280     Light Activity     Light Activity                     0.012553\n",
       "\n",
       "[978965 rows x 3 columns]"
      ]
     },
     "metadata": {},
     "output_type": "display_data"
    }
   ],
   "source": [
    "display(Decisiontree_df)"
   ]
  },
  {
   "cell_type": "code",
   "execution_count": 53,
   "id": "6f40bff8",
   "metadata": {
    "scrolled": true
   },
   "outputs": [
    {
     "name": "stdout",
     "output_type": "stream",
     "text": [
      "The Decision Tree classifier has correctly predicted 83.1862  % of exercises (accuracy)\n"
     ]
    }
   ],
   "source": [
    "a = Decisiontree_df[\"Test Target\"].tolist()\n",
    "b = Decisiontree_df[\"Estimate Test\"].tolist()\n",
    "correct_predict = sum(1 for x,y in zip(a,b) if x==y)\n",
    "print(\"The Decision Tree classifier has correctly predicted {:.4f}  % of exercises (accuracy)\".format(100*(correct_predict/len(a))))"
   ]
  },
  {
   "cell_type": "markdown",
   "id": "db6b86ef",
   "metadata": {},
   "source": [
    "The Decision Tree classifier has correctly predicted 83 % of exercies. "
   ]
  },
  {
   "cell_type": "code",
   "execution_count": 52,
   "id": "6013f0a2",
   "metadata": {
    "scrolled": true
   },
   "outputs": [
    {
     "name": "stdout",
     "output_type": "stream",
     "text": [
      "                   precision    recall  f1-score   support\n",
      "\n",
      "   Light Activity       0.91      0.85      0.88    448303\n",
      "Moderate Activity       0.76      0.90      0.82    419897\n",
      "Vigorous Activity       0.93      0.51      0.66    110765\n",
      "\n",
      "         accuracy                           0.83    978965\n",
      "        macro avg       0.87      0.75      0.79    978965\n",
      "     weighted avg       0.85      0.83      0.83    978965\n",
      "\n"
     ]
    }
   ],
   "source": [
    "predict_variable = clf.predict(test_data)\n",
    "print(classification_report(test_target,predict_variable,zero_division= 0))"
   ]
  },
  {
   "cell_type": "markdown",
   "id": "792da775",
   "metadata": {},
   "source": [
    "Here there are great results for all metrics. The target labels have sucesfully been predicted and the model is a sucess at predicting labels for unknown data."
   ]
  },
  {
   "cell_type": "markdown",
   "id": "9eff311b",
   "metadata": {},
   "source": [
    "## Conclusion"
   ]
  },
  {
   "cell_type": "markdown",
   "id": "34c88650",
   "metadata": {},
   "source": [
    "The aim of this report was to produce actionable insight from the derived data set based on various measurements of movement and IMU data.\n",
    "\n",
    "From the analysis of the data, there are several activities that induce a high average heart rate, that seem unintuitive. Figure 2 shows that descending stairs have the same average heart rate as that of ascending stairs and cycling. This is a huge find as these activities require MET much lower than the latter activities. This would be a great activity for an individual to utilise to allow them to train their cardiovascular health. Figure 5 (boxplot) solidifies this finding as the activity of descending stairs has a lower whisker much higher than that of ascending stairs. Here the upper quarter is higher than that of ascending stairs again, for an activity of MET 3 (descending stairs) and activity of MET 8 (ascending stairs). The difference between heart rates is astonishingly low and I would strongly recommend individuals with poor health to start descending stairs to import their overall health and fitness.\n",
    "\n",
    "Figures 10,11 and 12 all compared the different average temperatures of the different placements of IMUs. Through looking at these graphs it is clear to see that more activities that had higher MET scores consistently resided in the bottom section of the average temperatures. With all the evidence I have gathered from the first couple of sections, this finally led me to conduct the hypothesis that activities that have higher MET scores result in the lower overall temperature of the body. My prediction that activities that have higher heart rates i.e in a higher MET category will have lower hand temperatures was analysed using a hypothesis test. This is based on the assumption that every activity had the same external heat and blood flow applied to the hand - which I had to check in my second hypothesis. The second hypothesis concluded that the activity that I was comparing as having a lower heart rate in fact did not statistically have a lower heart rate than the sitting activity. This is why when conduction the hypothesis test on all activities that it did not return the result I hypothesised. I made an accurate analysis that this was due to there not being statistical evidence of an altered heart rate compared to that of the comparison activity.\n",
    "\n",
    "From my classification model task, I completed several methods with the Logistic Regression being the most effective at task classification. I resulted in a 76% accuracy, 74% precision, 64% recall, and 66% F1 score. This was using the calculated mean values for accel 16, gyro, and temperatures. Since my analysis through this report has been looking at the temperature - I also go on further onto only training the data with different features. The highest-scoring test was when every feature was used (obvious). I only included this for my sanity as it does not complete those requirements. I trained the data using Acceleration, Temperature, and Gyroscope data. From these three the most accurate one was that of the temperature data. I think that this is sufficient evidence that temperature data is a good method of classifying which activity a subject is performing.\n",
    "\n",
    "I then used the KMeans clustering method to classify the data into clusters (3) from my 3 groups of MET. Here the Silhouette score and Adjusted Rand score are used. Accuracy is not a good measure for this type of data. Evaluation of the quality of the predicted clusters is used - this determines whether two cluster results are similar to each other."
   ]
  },
  {
   "cell_type": "markdown",
   "id": "5e0aac8d",
   "metadata": {},
   "source": [
    "### References:\n",
    "[1] PAMAP2_Dataset: Physical Activity Monitoring. (n.d.). [ebook] Available at: http://archive.ics.uci.edu/ml/machine-learning-databases/00231/readme.pdf [Accessed 1st Dec. 2021].\n",
    "\n",
    "[2] MET Table : Top End Sports [Website] Available at: https://www.topendsports.com/weight-loss/energy-met.html [Accessed 11th Dec.2021]\n",
    "\n",
    "[3]Central limit theore: the cornerstone of modern statistics. [research paper] Available at: https://www.ncbi.nlm.nih.gov/pmc/articles/PMC5370305/ [Accessed 6th Dec.2021]\n",
    "\n",
    "[4] MET Scores For Calories burnt. [Website] Available at : \n",
    "https://silvabackfitness.com/met-table/ [Accessed 2nd Jan. 2022]"
   ]
  },
  {
   "cell_type": "code",
   "execution_count": 233,
   "id": "b457904d",
   "metadata": {},
   "outputs": [
    {
     "name": "stdout",
     "output_type": "stream",
     "text": [
      "Submission length is 4033\n"
     ]
    },
    {
     "name": "stderr",
     "output_type": "stream",
     "text": [
      "C:\\Users\\the-e\\anaconda3\\lib\\site-packages\\nbformat\\current.py:15: UserWarning: nbformat.current is deprecated.\n",
      "\n",
      "- use nbformat for read/write/validate public API\n",
      "- use nbformat.vX directly to composing notebooks of a particular version\n",
      "\n",
      "  warnings.warn(\"\"\"nbformat.current is deprecated.\n"
     ]
    }
   ],
   "source": [
    "##This code will word count all of the markdown cells in the notebook saved at filepath\n",
    "##Running it before providing any answers shows that the questions have a word count of 437\n",
    "\n",
    "import io\n",
    "from nbformat import current\n",
    "\n",
    "filepath=\"PAMPA2 Jupyter.ipynb\"\n",
    "question_count=0\n",
    "\n",
    "with io.open(filepath, 'r', encoding='utf-8') as f:\n",
    "    nb = current.read(f, 'json')\n",
    "\n",
    "word_count = 0\n",
    "for cell in nb.worksheets[0].cells:\n",
    "    if cell.cell_type == \"markdown\":\n",
    "        word_count += len(cell['source'].replace('#', '').lstrip().split(' '))\n",
    "print(\"Submission length is {}\".format(word_count-question_count))"
   ]
  },
  {
   "cell_type": "code",
   "execution_count": null,
   "id": "21ded011",
   "metadata": {},
   "outputs": [],
   "source": []
  }
 ],
 "metadata": {
  "kernelspec": {
   "display_name": "Python 3",
   "language": "python",
   "name": "python3"
  },
  "language_info": {
   "codemirror_mode": {
    "name": "ipython",
    "version": 3
   },
   "file_extension": ".py",
   "mimetype": "text/x-python",
   "name": "python",
   "nbconvert_exporter": "python",
   "pygments_lexer": "ipython3",
   "version": "3.8.8"
  }
 },
 "nbformat": 4,
 "nbformat_minor": 5
}
